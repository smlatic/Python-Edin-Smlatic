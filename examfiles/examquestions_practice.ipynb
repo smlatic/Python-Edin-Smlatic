{
 "cells": [
  {
   "cell_type": "markdown",
   "metadata": {},
   "source": [
    "### Uppgift 1 (3p)\n",
    "Förklara vad den här koden gör och vad som ritas ut:\n",
    "```py\n",
    "1. import matplotlib.pyplot as plt\n",
    "2.\n",
    "3. x = list(range(10)) # creates a list [1,2,3...9] \n",
    "4. y = [i**2 for i in x] # iterates every number in list to the power of 2 and stores in list y\n",
    "5. fig, ax = plt.figure(), plt.axes() # creates a plot ( figure and axis)\n",
    "6. ax.plot(x,y) # plots list x and y on the axis\n",
    "7. ax.set(title=\"Plot\", xlabel=\"x\", ylabel=\"y\") # Customizes, title and x,y labels.\n",
    "\n",
    "# Should plot  an exponential curve.\n",
    "Skriv en kort kommentar för varje rad\n",
    "```"
   ]
  },
  {
   "cell_type": "markdown",
   "metadata": {},
   "source": [
    "### Uppgift 2 (3p)\n",
    "Simulera 1000000 tärningskast och beräkna antalet ettor, tvåor, treor, fyror, femmor och sexor. Spara\n",
    "resultatet i en lämplig datastruktur."
   ]
  },
  {
   "cell_type": "code",
   "execution_count": null,
   "metadata": {},
   "outputs": [],
   "source": [
    "\n",
    "import random\n",
    "\n",
    "dice_rolls = [random.randint(1, 6) for x in range(1000001)]\n",
    "\n",
    "dice_dict = {\n",
    "    \"Ones\": dice_rolls.count(1),\n",
    "    \"Twos\": dice_rolls.count(2),\n",
    "    \"Threes\": dice_rolls.count(3),\n",
    "    \"Fours\": dice_rolls.count(4),\n",
    "    \"Fives\": dice_rolls.count(5),\n",
    "    \"Sixes\": dice_rolls.count(6),\n",
    "}\n",
    "print(dice_dict)\n",
    "\n",
    "# lite snyggare\n",
    "import pandas as pd\n",
    "\n",
    "dice_data = pd.DataFrame(dice_dict, index=[\"Dice Rolls\"])\n",
    "dice_data"
   ]
  },
  {
   "cell_type": "markdown",
   "metadata": {},
   "source": [
    "### Uppgift 3 (3p)\n",
    "* Skriv en funktion som tar in en radie som inparameter och som returnerar volymen av en sfär.\n",
    "* Volymen för en sfär är: V = ( 4*pi*r^3 ) / 3\n",
    "\n",
    "Låt användaren mata in ett tal och kör funktionen. Tänk på att ta med lämplig felhantering.\n"
   ]
  },
  {
   "cell_type": "code",
   "execution_count": 11,
   "metadata": {},
   "outputs": [
    {
     "name": "stdout",
     "output_type": "stream",
     "text": [
      "could not convert string to float: 'asd'\n",
      "Use only integers or float\n"
     ]
    }
   ],
   "source": [
    "# function för Volym\n",
    "import math\n",
    "\n",
    "def volumesphere(r):\n",
    "    volume = (4 * math.pi * r**3) / 3\n",
    "    return volume\n",
    "\n",
    "while True:\n",
    "    try:\n",
    "        r = float(input(\"Type radius: \"))\n",
    "        print(f\"Volume is {volumesphere(r):.2f}\")\n",
    "        break\n",
    "    except ValueError as err:\n",
    "        print(err)\n",
    "        print(\"Use only integers or float\")\n",
    "        break\n"
   ]
  },
  {
   "cell_type": "markdown",
   "metadata": {},
   "source": [
    "### Uppgift 4 (3p)\n",
    "Läs in en textfil som heter bamba.txt och innehåller:\n",
    "```py\n",
    "v42\n",
    "Chili sin carne \n",
    "Pannkakor\n",
    "Ärtsoppa\n",
    "Kebab\n",
    "Vegetarisk lasagne\n",
    "```\n",
    "Läs in texterna och skriv ut dem i terminalen."
   ]
  },
  {
   "cell_type": "code",
   "execution_count": 20,
   "metadata": {},
   "outputs": [
    {
     "name": "stdout",
     "output_type": "stream",
     "text": [
      "Vecka: v42\n",
      "Mån: Chili sin carne \n",
      "Tis: Pannkakor\n",
      "Ons: Ärtsoppa\n",
      "Tors: Kebab\n",
      "Fre: Vegetarisk lasagne\n",
      "Lör: Lördags-godis\n",
      "[('Vecka', 'v42'), ('Mån', 'Chili sin carne '), ('Tis', 'Pannkakor'), ('Ons', 'Ärtsoppa'), ('Tors', 'Kebab'), ('Fre', 'Vegetarisk lasagne'), ('Lör', 'Lördags-godis')]\n"
     ]
    }
   ],
   "source": [
    "with open(\"../explorations/bamba.txt\", \"r\", encoding='utf-8') as read:\n",
    "\n",
    "    veckans_mat = read.read().splitlines()\n",
    "    # Reads lines and stores them in to a list\n",
    "    \n",
    "\n",
    "    dagar = [\"Vecka\", \"Mån\", \"Tis\", \"Ons\", \"Tors\", \"Fre\", \"Lör\", \"Sön\"]\n",
    "    veckans_käk = \"Edoini Panini \\n\\n\"\n",
    "\n",
    "    for dagar, task in zip(dagar, veckans_mat):\n",
    "        veckans_käk = veckans_käk + f\"{dagar}: {task}\\n\"\n",
    "\n",
    "\n",
    "    print(veckans_käk)\n"
   ]
  },
  {
   "cell_type": "code",
   "execution_count": 22,
   "metadata": {},
   "outputs": [
    {
     "name": "stdout",
     "output_type": "stream",
     "text": [
      "Vecka: v42\n",
      "Mån: Chili sin carne \n",
      "Tis: Pannkakor\n",
      "Ons: Ärtsoppa\n",
      "Tors: Kebab\n",
      "Fre: Vegetarisk lasagne\n",
      "Lör: Lördags-godis\n",
      "[('Vecka', 'v42'), ('Mån', 'Chili sin carne '), ('Tis', 'Pannkakor'), ('Ons', 'Ärtsoppa'), ('Tors', 'Kebab'), ('Fre', 'Vegetarisk lasagne'), ('Lör', 'Lördags-godis')]\n"
     ]
    }
   ],
   "source": [
    "\n",
    "with open(\"../explorations/bamba.txt\", \"r\", encoding='utf-8') as read:\n",
    "\n",
    "    veckans_mat = read.read().splitlines()\n",
    "    # Reads lines and stores them in to a list\n",
    "    \n",
    "\n",
    "    dagar = [\"Vecka\", \"Mån\", \"Tis\", \"Ons\", \"Tors\", \"Fre\", \"Lör\", \"Sön\"]\n",
    "    veckans_käk = \"Edoini Panini \\n\\n\"\n",
    "\n",
    "    # andra sättet. zippa till en lista därefter\n",
    "    test = list(zip(dagar, veckans_mat))\n",
    "\n",
    "    for key, value in test:\n",
    "        print(f\"{key}: {value}\")\n",
    "\n",
    "        \n",
    "    print(test)\n"
   ]
  },
  {
   "cell_type": "markdown",
   "metadata": {},
   "source": [
    "### Uppgift 5 (3p)\n",
    "* Skapa en funktion som tar in två punkter i 2D , och som returnerar tillbaka avståndet mellan dessa. \n",
    "* Anropa därefter denna funktion för test. Det finns en textfil som heter testpunkter.txt som ligger i undermappen testpoints och innehåller:\n",
    "```py\n",
    "Punkt 1, punkt 2 \n",
    "(1,2), (0,0)\n",
    "(2,0), (3,5)\n",
    "...\n",
    "(-2,-2), (9,2)\n",
    "```"
   ]
  },
  {
   "cell_type": "code",
   "execution_count": 1,
   "metadata": {},
   "outputs": [
    {
     "name": "stdout",
     "output_type": "stream",
     "text": [
      "--------------------Regex--------------------\n",
      "2.23606797749979\n",
      "5.0990195135927845\n",
      "7.0\n",
      "--------------------Pandas--------------------\n",
      "   x1  y1  x2 y2\n",
      "0   1   2   0  0\n",
      "1   2   0   3  5\n",
      "2  -2  -2   9  2\n"
     ]
    },
    {
     "data": {
      "text/html": [
       "<div>\n",
       "<style scoped>\n",
       "    .dataframe tbody tr th:only-of-type {\n",
       "        vertical-align: middle;\n",
       "    }\n",
       "\n",
       "    .dataframe tbody tr th {\n",
       "        vertical-align: top;\n",
       "    }\n",
       "\n",
       "    .dataframe thead th {\n",
       "        text-align: right;\n",
       "    }\n",
       "</style>\n",
       "<table border=\"1\" class=\"dataframe\">\n",
       "  <thead>\n",
       "    <tr style=\"text-align: right;\">\n",
       "      <th></th>\n",
       "      <th>x1</th>\n",
       "      <th>y1</th>\n",
       "      <th>x2</th>\n",
       "      <th>y2</th>\n",
       "      <th>Euclid Distance</th>\n",
       "    </tr>\n",
       "  </thead>\n",
       "  <tbody>\n",
       "    <tr>\n",
       "      <th>0</th>\n",
       "      <td>1</td>\n",
       "      <td>2</td>\n",
       "      <td>0</td>\n",
       "      <td>0</td>\n",
       "      <td>2.236068</td>\n",
       "    </tr>\n",
       "    <tr>\n",
       "      <th>1</th>\n",
       "      <td>2</td>\n",
       "      <td>0</td>\n",
       "      <td>3</td>\n",
       "      <td>5</td>\n",
       "      <td>5.099020</td>\n",
       "    </tr>\n",
       "    <tr>\n",
       "      <th>2</th>\n",
       "      <td>-2</td>\n",
       "      <td>-2</td>\n",
       "      <td>9</td>\n",
       "      <td>2</td>\n",
       "      <td>11.704700</td>\n",
       "    </tr>\n",
       "  </tbody>\n",
       "</table>\n",
       "</div>"
      ],
      "text/plain": [
       "   x1  y1  x2  y2  Euclid Distance\n",
       "0   1   2   0   0         2.236068\n",
       "1   2   0   3   5         5.099020\n",
       "2  -2  -2   9   2        11.704700"
      ]
     },
     "execution_count": 1,
     "metadata": {},
     "output_type": "execute_result"
    }
   ],
   "source": [
    "print(\"-\"*20 + \"Regex\" + \"-\"*20)\n",
    "\n",
    "import re\n",
    "import math\n",
    "\n",
    "\n",
    "def calc_dist(path): # Type the folder path\n",
    "\n",
    "    with open(path, \"r\") as f:\n",
    "        \n",
    "        for line in f.readlines()[1:]:\n",
    "            digits = re.findall(r\"[\\d]\", line)\n",
    "            x1, y1, x2, y2 = digits\n",
    "            distance = math.sqrt((float(x2)-float(x1))**2 + (float(y2)-float(y1))**2)\n",
    "            print(distance)\n",
    "            \n",
    "        \n",
    "calc_dist(\"../explorations/testpunkter.txt\")\n",
    "\n",
    "#----------------------- Pandas Way-------------------------\n",
    "\n",
    "print(\"-\"*20 + \"Pandas\" + \"-\"*20)\n",
    "import pandas as pd\n",
    "\n",
    "data_numbers = pd.read_csv(\"../explorations/testpunkter.txt\", sep=\",\", header=0, names=[\"x1\", \"y1\",\"x2\", \"y2\"])\n",
    "data_numbers = data_numbers.replace(r\"[()]\", \"\", regex=True)\n",
    "data_numbers = data_numbers.apply(pd.to_numeric, errors='coerce', axis=1)\n",
    "data_numbers[\"Euclid Distance\"] = ((data_numbers[\"x2\"] - data_numbers[\"x1\"])**2 + (data_numbers[\"y2\"] - data_numbers[\"y1\"])**2)**(1/2)\n",
    "data_numbers\n",
    "\n",
    "#----------------------------------------------------\n"
   ]
  },
  {
   "cell_type": "markdown",
   "metadata": {},
   "source": [
    "### Uppgift 6 (4p)\n",
    "I den här uppgiften ska du skapa ett blackjack som är ett kortspel. Förenklat är reglerna för blackjack:\n",
    "* dealern tar två kort\n",
    "* dealern visar sitt första kort\n",
    "* spelaren tar två kort\n",
    "* spelaren får välja att ta nytt kort eller stanna\n",
    "* när spelaren stannar räknar man poängen genom:\n",
    "    * J, K, Q värda 10p\n",
    "    * A värd 1 eller 11\n",
    "    * Övriga kort värda deras valör\n",
    "* om spelarens poäng mindre eller lika med 21, vinner spelaren om hens poäng överstiger dealerns,\n",
    "annars vinner dealern\n"
   ]
  },
  {
   "cell_type": "code",
   "execution_count": 24,
   "metadata": {},
   "outputs": [
    {
     "name": "stdout",
     "output_type": "stream",
     "text": [
      "Dealer shows the first card: 3. Dealer has 2 cards.\n",
      "You have 2 cards: ['J', '7']. The total points is: 17\n",
      "You have 3 cards: ['J', '7', '8']. The total points is: 25\n",
      "\n",
      "Dealer have 2 cards: ['3', '8']. The total points is: 11.\n",
      "You have 3 cards: ['J', '7', '8']. The total points is: 25.\n",
      "\n",
      "You lose.\n"
     ]
    }
   ],
   "source": [
    "import random\n",
    "# create deck\n",
    "deck_element = \"A 2 3 4 5 6 7 8 9 10 J Q K\".split()\n",
    "deck = deck_element*4\n",
    "\n",
    "# define deal function\n",
    "def deal(deck, n_of_cards):\n",
    "\thand = []\n",
    "\tfor i in range(n_of_cards):\n",
    "\t\trandom.shuffle(deck)\n",
    "\t\tcard = deck.pop()\n",
    "\t\thand.append(card)\n",
    "\treturn hand\n",
    "\n",
    "# define counting cards function\n",
    "def total(hand):\n",
    "\ttotal = 0\n",
    "\tfor i in hand:\n",
    "\t\tif i==\"J\" or i==\"Q\" or i==\"K\":\n",
    "\t\t\ttotal += 10\n",
    "\t\telif i==\"A\":\n",
    "\t\t\ttotal += 1 if total>= 11 else 11\n",
    "\t\telse:\n",
    "\t\t\ttotal += int(i)\n",
    "\treturn total\n",
    "\n",
    "# define score function\n",
    "def score(dealerhand, playerhand):\n",
    "\ttotal_dealer = total(dealerhand)\n",
    "\ttotal_player = total(playerhand)\n",
    "\tif total_player <= 21 and total_player > total_dealer:\n",
    "\t\tprint(\"Congratulations!!! You win!!!\")\n",
    "\telse:\n",
    "\t\tprint(\"You lose.\")\n",
    "\n",
    "# print results\n",
    "def dealer_show_first_card(hand):\n",
    "\tprint (f\"Dealer shows the first card: {hand[0]}. Dealer has {len(hand)} cards.\")\n",
    "def player_show_cards(hand):\n",
    "\tprint(f\"You have {len(hand)} cards: {hand}. The total points is: {total(hand)}\")\t\n",
    "def all_show_cards(dealerhand, playerhand):\n",
    "\tprint(f\"Dealer have {len(dealerhand)} cards: {dealerhand}. The total points is: {total(dealerhand)}. You have {len(playerhand)} cards: {playerhand}. The total points is: {total(playerhand)}.\")\n",
    "\n",
    "# start playing blackjack\n",
    "dealerhand = deal(deck, 2)\n",
    "dealer_show_first_card(dealerhand)\n",
    "playerhand = deal(deck, 2)\n",
    "player_show_cards(playerhand)\n",
    "\n",
    "while True:\n",
    "\tplayer_choice = input(\"Choose (T)ake a new card, or (S)top.\")\n",
    "\tchoice = player_choice.lower()\n",
    "\tif choice == \"t\":\n",
    "\t\tcard = deck.pop()\n",
    "\t\tplayerhand.append(card)\n",
    "\t\tplayer_show_cards(playerhand)\n",
    "\t\tif total(playerhand) > 21:\n",
    "\t\t\tbreak\n",
    "\telif choice == \"s\":\n",
    "\t\tbreak\n",
    "\telse:\n",
    "\t\tprint(\"Input either T or S\")\n",
    "\n",
    "\n",
    "all_show_cards(dealerhand, playerhand)\n",
    "score(dealerhand, playerhand)"
   ]
  },
  {
   "cell_type": "markdown",
   "metadata": {},
   "source": [
    "### Uppgift 7, se PDF"
   ]
  },
  {
   "cell_type": "code",
   "execution_count": null,
   "metadata": {},
   "outputs": [],
   "source": [
    "import matplotlib.pyplot as plt\n",
    "\n",
    "class NormalDist():\n",
    "    def __init__(self, mu:float, sigma:float):\n",
    "        self.mu = mu\n",
    "        self.sigma = sigma\n",
    "    \n",
    "    def pdf(self, x:float) -> float:\n",
    "        some_calculation = \"formula\"\n",
    "        return some_calculation\n",
    "    \n",
    "    def plt_pdf(self, x:float) -> None:\n",
    "        plt.hist(x)\n",
    "        plt.show()\n",
    "    \n",
    "    def __add__(self, other: \"NormalDist\") -> \"NormalDist\":\n",
    "        mu_add = self.mu + other.mu\n",
    "        sigma_add = self.sigma + other.sigma\n",
    "        return NormalDist(mu_add, sigma_add)"
   ]
  },
  {
   "cell_type": "markdown",
   "metadata": {},
   "source": [
    "## Exam 2 \n",
    "\n",
    "### Uppgift 1 (3p)\n",
    "Beskriv vad koden gör och vad som skrivs ut:\n",
    "```py\n",
    "1. frukter = [\"jordgubbe\", \"vindruva\", \"grape\"]\n",
    "2. godfrukt = frukter[2]\n",
    "3. print(godfrukt[-1])\n",
    "```\n",
    "Skriv en kort kommentar för varje rad."
   ]
  },
  {
   "cell_type": "markdown",
   "metadata": {},
   "source": [
    "### Uppgift 2 (3p)\n",
    "* Skapa en funktion som tar in ett heltal n som parameter och skriver ut följande mönstret nedan.\n",
    "* Exempel när n = 5:\n",
    "```py\n",
    "x o o o o \n",
    "x x o o o \n",
    "x x x o o \n",
    "x x x x o \n",
    "x x x x x "
   ]
  },
  {
   "cell_type": "code",
   "execution_count": 35,
   "metadata": {},
   "outputs": [
    {
     "name": "stdout",
     "output_type": "stream",
     "text": [
      "x o o o o o o o o o  \n",
      "x x o o o o o o o o  \n",
      "x x x o o o o o o o  \n",
      "x x x x o o o o o o  \n",
      "x x x x x o o o o o  \n",
      "x x x x x x o o o o  \n",
      "x x x x x x x o o o  \n",
      "x x x x x x x x o o  \n",
      "x x x x x x x x x o  \n",
      "x x x x x x x x x x  \n"
     ]
    }
   ],
   "source": [
    "def pattern(n):\n",
    "    for i in range(n):\n",
    "        for y in range(n):\n",
    "\n",
    "            if y <= i:\n",
    "                print(\"x\", end=\" \")\n",
    "            else:\n",
    "                print(\"o\", end=\" \")\n",
    "        print(\" \")\n",
    "\n",
    "\n",
    "\n",
    "pattern(10)\n"
   ]
  },
  {
   "cell_type": "code",
   "execution_count": null,
   "metadata": {},
   "outputs": [],
   "source": []
  },
  {
   "cell_type": "markdown",
   "metadata": {},
   "source": [
    "### Uppgift 4 (3p)\n",
    "Läs in en textfil som heter bamba.txt och innehåller:\n",
    "```py\n",
    "v42\n",
    "Chili sin carne \n",
    "Pannkakor\n",
    "Ärtsoppa\n",
    "Kebab\n",
    "Vegetarisk lasagne\n",
    "```\n",
    "* skriv därefter ut dem med korresponderande dagar\n",
    "\n",
    "```py \n",
    "v42\n",
    "Mån: Chili sin carne \n",
    "Tis: Pannkakor\n",
    "Ons: Ärtsoppa\n",
    "Tor: Kebab\n",
    "Fre: Vegetarisk lasagne\n",
    "```"
   ]
  },
  {
   "cell_type": "markdown",
   "metadata": {},
   "source": [
    "### Uppgift 5 (4p)\n",
    "\n",
    "* Skapa en funktion som tar in en summa pengar. Den ska printa ut en representation av sedlar och mynt som\n",
    "representerar summan.\n",
    "* Exempel 3214 ska ge:\n",
    "```py \n",
    "Tusenlapp: 3 \n",
    "Tvåhundralapp: 1 \n",
    "Tiokrona: 1\n",
    "Enkrona: 4\n",
    "```"
   ]
  },
  {
   "cell_type": "markdown",
   "metadata": {},
   "source": [
    "### Uppgift 6 (4p)\n",
    "* Du har följande kod:"
   ]
  },
  {
   "cell_type": "code",
   "execution_count": 31,
   "metadata": {},
   "outputs": [
    {
     "name": "stdout",
     "output_type": "stream",
     "text": [
      "Anna owns:\n",
      "[Dog: baby_dog, Dog: doggie][Fish: fish_baby, Fish: babyfish]\n",
      "Babie owns:\n",
      "[Dog: hund][Fish: littleFish]\n"
     ]
    }
   ],
   "source": [
    "class Animal:\n",
    "    def __init__(self, name):\n",
    "        self.name = name\n",
    "    \n",
    "    def __repr__(self):\n",
    "        return f\"Animal: {self.name}\"\n",
    "\n",
    "class Dog(Animal):\n",
    "    def __repr__(self):\n",
    "        return f\"Dog: {self.name}\"\n",
    "\n",
    "class Fish(Animal):\n",
    "    def __repr__(self):\n",
    "        return f\"Fish: {self.name}\"\n",
    "\n",
    "class PetOwner:\n",
    "    def __init__(self, owner, dogs_list=None, fishes_list=None):\n",
    "        self.owner = owner\n",
    "        self.dogs_list = dogs_list\n",
    "        self.fishes_list = fishes_list\n",
    "\n",
    "        self.dogs_list_own = []\n",
    "        self.fishes_list_own = []\n",
    "\n",
    "        for dog in self.dogs_list:\n",
    "            self.dogs_list_own.append(Dog(dog))\n",
    "\n",
    "        for fish in self.fishes_list:\n",
    "            self.fishes_list_own.append(Fish(fish))   \n",
    "\n",
    "    def __repr__(self):\n",
    "        return f\"{self.owner} owns:\\n{self.dogs_list_own}{self.fishes_list_own}\"\n",
    "\n",
    "owner1 = PetOwner(\"Anna\", [\"baby_dog\", \"doggie\"], [\"fish_baby\", \"babyfish\"] )\n",
    "print(owner1)\n",
    "owner2 = PetOwner(\"Babie\", [\"hund\"], [\"littleFish\"])\n",
    "print(owner2)\n",
    "\n"
   ]
  },
  {
   "cell_type": "markdown",
   "metadata": {},
   "source": [
    "\n",
    "* Implementera PetOwner klassen så att du får liknande utskrift som nedan med det manuella testet\n",
    "```py \n",
    "Ada owns: \n",
    "[Dog: Snoopy, Dog: Pluto]\n",
    "[Fish: Fishy, Fish: Buppy]\n",
    "Beda owns: \n",
    "[Dog: Barkly]\n",
    "```\n"
   ]
  },
  {
   "cell_type": "markdown",
   "metadata": {},
   "source": []
  }
 ],
 "metadata": {
  "kernelspec": {
   "display_name": "Python 3.10.7 64-bit",
   "language": "python",
   "name": "python3"
  },
  "language_info": {
   "codemirror_mode": {
    "name": "ipython",
    "version": 3
   },
   "file_extension": ".py",
   "mimetype": "text/x-python",
   "name": "python",
   "nbconvert_exporter": "python",
   "pygments_lexer": "ipython3",
   "version": "3.10.7"
  },
  "orig_nbformat": 4,
  "vscode": {
   "interpreter": {
    "hash": "41ba67733ad153430742012dca7ad09571aaa4067c23d959a4a36a231f87e3c5"
   }
  }
 },
 "nbformat": 4,
 "nbformat_minor": 2
}
