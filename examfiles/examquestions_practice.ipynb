{
 "cells": [
  {
   "cell_type": "markdown",
   "metadata": {},
   "source": [
    "### Uppgift 1 (3p)\n",
    "Förklara vad den här koden gör och vad som ritas ut:\n",
    "```py\n",
    "1. import matplotlib.pyplot as plt\n",
    "2.\n",
    "3. x = list(range(10)) \n",
    "4. y = [i**2 for i in x]\n",
    "5. fig, ax = plt.figure(), plt.axes()\n",
    "6. ax.plot(x,y)\n",
    "7. ax.set(title=\"Plot\", xlabel=\"x\", ylabel=\"y\")\n",
    "Skriv en kort kommentar för varje rad\n",
    "```"
   ]
  },
  {
   "cell_type": "markdown",
   "metadata": {},
   "source": [
    "### Uppgift 2 (3p)\n",
    "Simulera 1000000 tärningskast och beräkna antalet ettor, tvåor, treor, fyror, femmor och sexor. Spara\n",
    "resultatet i en lämplig datastruktur."
   ]
  },
  {
   "cell_type": "markdown",
   "metadata": {},
   "source": [
    "### Uppgift 3 (3p)\n",
    "* Skriv en funktion som tar in en radie som inparameter och som returnerar volymen av en sfär.\n",
    "* Volymen för en sfär är: V = ( 4*pi*r^3 ) / 3\n",
    "\n",
    "Låt användaren mata in ett tal och kör funktionen. Tänk på att ta med lämplig felhantering.\n"
   ]
  },
  {
   "cell_type": "markdown",
   "metadata": {},
   "source": [
    "### Uppgift 4 (3p)\n",
    "Läs in en textfil som heter bamba.txt och innehåller:\n",
    "```py\n",
    "v42\n",
    "Chili sin carne \n",
    "Pannkakor\n",
    "Ärtsoppa\n",
    "Kebab\n",
    "Vegetarisk lasagne\n",
    "```\n",
    "Läs in texterna och skriv ut dem i terminalen."
   ]
  },
  {
   "cell_type": "markdown",
   "metadata": {},
   "source": [
    "### Uppgift 5 (3p)\n",
    "* Skapa en funktion som tar in två punkter i 2D , och som returnerar tillbaka avståndet mellan dessa. \n",
    "* Anropa därefter denna funktion för test. Det finns en textfil som heter testpunkter.txt som ligger i undermappen testpoints och innehåller:\n",
    "```py\n",
    "Punkt 1, punkt 2 \n",
    "(1,2), (0,0)\n",
    "(2,0), (3,5)\n",
    "...\n",
    "(-2,-2), (9,2)\n",
    "```"
   ]
  },
  {
   "cell_type": "markdown",
   "metadata": {},
   "source": [
    "### Uppgift 6 (4p)\n",
    "I den här uppgiften ska du skapa ett blackjack som är ett kortspel. Förenklat är reglerna för blackjack:\n",
    "* dealern tar två kort\n",
    "* dealern visar sitt första kort\n",
    "* spelaren tar två kort\n",
    "* spelaren får välja att ta nytt kort eller stanna\n",
    "* när spelaren stannar räknar man poängen genom:\n",
    "    * J, K, Q värda 10p\n",
    "    * A värd 1 eller 11\n",
    "    * Övriga kort värda deras valör\n",
    "* om spelarens poäng mindre eller lika med 21, vinner spelaren om hens poäng överstiger dealerns,\n",
    "annars vinner dealern\n"
   ]
  },
  {
   "cell_type": "markdown",
   "metadata": {},
   "source": [
    "### Uppgift 7, se PDF"
   ]
  },
  {
   "cell_type": "markdown",
   "metadata": {},
   "source": [
    "## Exam 2 \n",
    "\n",
    "### Uppgift 1 (3p)\n",
    "Beskriv vad koden gör och vad som skrivs ut:\n",
    "```py\n",
    "1. frukter = [\"jordgubbe\", \"vindruva\", \"grape\"]\n",
    "2. godfrukt = frukter[2]\n",
    "3. print(godfrukt[-1])\n",
    "```\n",
    "Skriv en kort kommentar för varje rad."
   ]
  },
  {
   "cell_type": "markdown",
   "metadata": {},
   "source": [
    "### Uppgift 2 (3p)\n",
    "* Skapa en funktion som tar in ett heltal n som parameter och skriver ut följande mönstret nedan.\n",
    "* Exempel när n = 5:\n",
    "```py\n",
    "x o o o o \n",
    "x x o o o \n",
    "x x x o o \n",
    "x x x x o \n",
    "x x x x x "
   ]
  },
  {
   "cell_type": "markdown",
   "metadata": {},
   "source": [
    "### Uppgift 3 (3p)\n",
    "* Skriv en funktion som tar in en radie och en höjd som inparametrar och som returnerar volymen av en\n",
    "cylinder. \n",
    "* Volymen för en cylinder är: V = pi*r^2*h\n",
    "\n",
    "Låt användaren mata in en radie och en höjd och kör funktionen. Tänk på att ta med lämplig felhantering."
   ]
  },
  {
   "cell_type": "markdown",
   "metadata": {},
   "source": [
    "### Uppgift 4 (3p)\n",
    "Läs in en textfil som heter bamba.txt och innehåller:\n",
    "```py\n",
    "v42\n",
    "Chili sin carne \n",
    "Pannkakor\n",
    "Ärtsoppa\n",
    "Kebab\n",
    "Vegetarisk lasagne\n",
    "```\n",
    "* skriv därefter ut dem med korresponderande dagar\n",
    "\n",
    "```py \n",
    "v42\n",
    "Mån: Chili sin carne \n",
    "Tis: Pannkakor\n",
    "Ons: Ärtsoppa\n",
    "Tor: Kebab\n",
    "Fre: Vegetarisk lasagne\n",
    "```"
   ]
  },
  {
   "cell_type": "markdown",
   "metadata": {},
   "source": [
    "### Uppgift 5 (4p)\n",
    "\n",
    "* Skapa en funktion som tar in en summa pengar. Den ska printa ut en representation av sedlar och mynt som\n",
    "representerar summan.\n",
    "* Exempel 3214 ska ge:\n",
    "```py \n",
    "Tusenlapp: 3 \n",
    "Tvåhundralapp: 1 \n",
    "Tiokrona: 1\n",
    "Enkrona: 4\n",
    "```"
   ]
  },
  {
   "cell_type": "markdown",
   "metadata": {},
   "source": [
    "### Uppgift 6 (4p)\n",
    "* Du har följande kod:"
   ]
  },
  {
   "cell_type": "code",
   "execution_count": null,
   "metadata": {},
   "outputs": [],
   "source": [
    "\n",
    "class Animal:\n",
    " def __init__(self, name):\n",
    " self.name = name \n",
    "\n",
    " def __str__(self):\n",
    " return f\"Animal {self.name}\"\n",
    "\n",
    "class Dog(Animal):\n",
    " # notera att __init__ är nedärvd\n",
    " def __repr__(self):\n",
    " return f\"Dog: {self.name}\"\n",
    "\n",
    "class Fish(Animal):\n",
    " def __repr__(self):\n",
    " return f\"Fish: {self.name}\"\n",
    "\n",
    "#TODO: implementera PetOwner\n",
    "class PetOwner:\n",
    " \n",
    "# manuell test av PetOwner\n",
    "owner1 = PetOwner(\"Ada\",[\"Snoopy\", \"Pluto\"], [\"Fishy\", \"Buppy\"])\n",
    "owner2 = PetOwner(\"Beda\", [\"Barkly\"] )\n",
    "Kokchun Giang\n",
    "3 / 3\n",
    "print(owner1)\n",
    "print(owner2)\n",
    "\n"
   ]
  },
  {
   "cell_type": "markdown",
   "metadata": {},
   "source": [
    "\n",
    "* Implementera PetOwner klassen så att du får liknande utskrift som nedan med det manuella testet\n",
    "```py \n",
    "Ada owns: \n",
    "[Dog: Snoopy, Dog: Pluto]\n",
    "[Fish: Fishy, Fish: Buppy]\n",
    "Beda owns: \n",
    "[Dog: Barkly]\n",
    "```\n"
   ]
  },
  {
   "cell_type": "markdown",
   "metadata": {},
   "source": []
  }
 ],
 "metadata": {
  "kernelspec": {
   "display_name": "Python 3.10.7 64-bit",
   "language": "python",
   "name": "python3"
  },
  "language_info": {
   "codemirror_mode": {
    "name": "ipython",
    "version": 3
   },
   "file_extension": ".py",
   "mimetype": "text/x-python",
   "name": "python",
   "nbconvert_exporter": "python",
   "pygments_lexer": "ipython3",
   "version": "3.10.7"
  },
  "orig_nbformat": 4,
  "vscode": {
   "interpreter": {
    "hash": "41ba67733ad153430742012dca7ad09571aaa4067c23d959a4a36a231f87e3c5"
   }
  }
 },
 "nbformat": 4,
 "nbformat_minor": 2
}
