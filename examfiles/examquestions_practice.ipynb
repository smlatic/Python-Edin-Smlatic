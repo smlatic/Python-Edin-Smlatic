{
 "cells": [
  {
   "cell_type": "markdown",
   "metadata": {},
   "source": [
    "### Uppgift 1 (3p)\n",
    "Förklara vad den här koden gör och vad som ritas ut:\n",
    "```py\n",
    "1. import matplotlib.pyplot as plt\n",
    "2.\n",
    "3. x = list(range(10)) # creates a list [1,2,3...9] \n",
    "4. y = [i**2 for i in x] # iterates every number in list to the power of 2 and stores in list y\n",
    "5. fig, ax = plt.figure(), plt.axes() # creates a plot ( figure and axis)\n",
    "6. ax.plot(x,y) # plots list x and y on the axis\n",
    "7. ax.set(title=\"Plot\", xlabel=\"x\", ylabel=\"y\") # Customizes, title and x,y labels.\n",
    "\n",
    "# Should plot  an exponential curve.\n",
    "Skriv en kort kommentar för varje rad\n",
    "```"
   ]
  },
  {
   "cell_type": "markdown",
   "metadata": {},
   "source": [
    "### Uppgift 2 (3p)\n",
    "Simulera 1000000 tärningskast och beräkna antalet ettor, tvåor, treor, fyror, femmor och sexor. Spara\n",
    "resultatet i en lämplig datastruktur."
   ]
  },
  {
   "cell_type": "code",
   "execution_count": 13,
   "metadata": {},
   "outputs": [
    {
     "name": "stdout",
     "output_type": "stream",
     "text": [
      "{'Ones': 166533, 'Twos': 166627, 'Threes': 166423, 'Fours': 166756, 'Fives': 166502, 'Sixes': 167160}\n"
     ]
    },
    {
     "data": {
      "text/html": [
       "<div>\n",
       "<style scoped>\n",
       "    .dataframe tbody tr th:only-of-type {\n",
       "        vertical-align: middle;\n",
       "    }\n",
       "\n",
       "    .dataframe tbody tr th {\n",
       "        vertical-align: top;\n",
       "    }\n",
       "\n",
       "    .dataframe thead th {\n",
       "        text-align: right;\n",
       "    }\n",
       "</style>\n",
       "<table border=\"1\" class=\"dataframe\">\n",
       "  <thead>\n",
       "    <tr style=\"text-align: right;\">\n",
       "      <th></th>\n",
       "      <th>Ones</th>\n",
       "      <th>Twos</th>\n",
       "      <th>Threes</th>\n",
       "      <th>Fours</th>\n",
       "      <th>Fives</th>\n",
       "      <th>Sixes</th>\n",
       "    </tr>\n",
       "  </thead>\n",
       "  <tbody>\n",
       "    <tr>\n",
       "      <th>Dice Rolls</th>\n",
       "      <td>166533</td>\n",
       "      <td>166627</td>\n",
       "      <td>166423</td>\n",
       "      <td>166756</td>\n",
       "      <td>166502</td>\n",
       "      <td>167160</td>\n",
       "    </tr>\n",
       "  </tbody>\n",
       "</table>\n",
       "</div>"
      ],
      "text/plain": [
       "              Ones    Twos  Threes   Fours   Fives   Sixes\n",
       "Dice Rolls  166533  166627  166423  166756  166502  167160"
      ]
     },
     "execution_count": 13,
     "metadata": {},
     "output_type": "execute_result"
    }
   ],
   "source": [
    "\n",
    "import random\n",
    "\n",
    "dice_rolls = [random.randint(1, 6) for x in range(1000001)]\n",
    "\n",
    "dice_dict = {\n",
    "    \"Ones\": dice_rolls.count(1),\n",
    "    \"Twos\": dice_rolls.count(2),\n",
    "    \"Threes\": dice_rolls.count(3),\n",
    "    \"Fours\": dice_rolls.count(4),\n",
    "    \"Fives\": dice_rolls.count(5),\n",
    "    \"Sixes\": dice_rolls.count(6),\n",
    "}\n",
    "print(dice_dict)\n",
    "\n",
    "# lite snyggare\n",
    "import pandas as pd\n",
    "\n",
    "dice_data = pd.DataFrame(dice_dict, index=[\"Dice Rolls\"])\n",
    "dice_data"
   ]
  },
  {
   "cell_type": "markdown",
   "metadata": {},
   "source": [
    "### Uppgift 3 (3p)\n",
    "* Skriv en funktion som tar in en radie som inparameter och som returnerar volymen av en sfär.\n",
    "* Volymen för en sfär är: V = ( 4*pi*r^3 ) / 3\n",
    "\n",
    "Låt användaren mata in ett tal och kör funktionen. Tänk på att ta med lämplig felhantering.\n"
   ]
  },
  {
   "cell_type": "code",
   "execution_count": 1,
   "metadata": {},
   "outputs": [
    {
     "name": "stdout",
     "output_type": "stream",
     "text": [
      "Volume is 4.19\n",
      "3.141592653589793\n"
     ]
    }
   ],
   "source": [
    "# function för Volym\n",
    "import math\n",
    "\n",
    "def volumesphere(r):\n",
    "    volume = (4 * math.pi * r**3) / 3\n",
    "    return volume\n",
    "\n",
    "while True:\n",
    "    try:\n",
    "        r = float(input(\"Type radius: \"))\n",
    "        print(f\"Volume is {volumesphere(r):.2f}\")\n",
    "        break\n",
    "    except ValueError:\n",
    "        print(\"Use only integers or floats\")\n",
    "        break\n"
   ]
  },
  {
   "cell_type": "markdown",
   "metadata": {},
   "source": [
    "### Uppgift 4 (3p)\n",
    "Läs in en textfil som heter bamba.txt och innehåller:\n",
    "```py\n",
    "v42\n",
    "Chili sin carne \n",
    "Pannkakor\n",
    "Ärtsoppa\n",
    "Kebab\n",
    "Vegetarisk lasagne\n",
    "```\n",
    "Läs in texterna och skriv ut dem i terminalen."
   ]
  },
  {
   "cell_type": "code",
   "execution_count": 28,
   "metadata": {},
   "outputs": [
    {
     "name": "stdout",
     "output_type": "stream",
     "text": [
      "Edoini Panini \n",
      "\n",
      "Vecka: v42\n",
      "Mån: Chili sin carne \n",
      "Tis: Pannkakor\n",
      "Ons: Ärtsoppa\n",
      "Tors: Kebab\n",
      "Fre: Vegetarisk lasagne\n",
      "Lör: Lördags-godis\n",
      "\n",
      "Vecka: v42\n",
      "Mån: Chili sin carne \n",
      "Tis: Pannkakor\n",
      "Ons: Ärtsoppa\n",
      "Tors: Kebab\n",
      "Fre: Vegetarisk lasagne\n",
      "Lör: Lördags-godis\n"
     ]
    }
   ],
   "source": [
    "with open(\"../explorations/bamba.txt\", \"r\", encoding='utf-8') as read:\n",
    "\n",
    "    veckans_mat = read.read().splitlines()\n",
    "    # Reads lines and stores them in to a list\n",
    "    \n",
    "\n",
    "    vecka = [\"Vecka\", \"Mån\", \"Tis\", \"Ons\", \"Tors\", \"Fre\", \"Lör\", \"Sön\"]\n",
    "    veckans_käk = \"Edoini Panini \\n\\n\"\n",
    "\n",
    "    test = list(zip(vecka, veckans_mat))\n",
    "\n",
    "    for vecka, task in zip(vecka, veckans_mat):\n",
    "        veckans_käk = veckans_käk + f\"{vecka}: {task}\\n\"\n",
    "\n",
    "\n",
    "    print(veckans_käk)\n",
    "\n",
    "    # andra sättet. zippa till en lista därefter\n",
    "    for key, value in test:\n",
    "        print(f\"{key}: {value}\")\n"
   ]
  },
  {
   "cell_type": "markdown",
   "metadata": {},
   "source": [
    "### Uppgift 5 (3p)\n",
    "* Skapa en funktion som tar in två punkter i 2D , och som returnerar tillbaka avståndet mellan dessa. \n",
    "* Anropa därefter denna funktion för test. Det finns en textfil som heter testpunkter.txt som ligger i undermappen testpoints och innehåller:\n",
    "```py\n",
    "Punkt 1, punkt 2 \n",
    "(1,2), (0,0)\n",
    "(2,0), (3,5)\n",
    "...\n",
    "(-2,-2), (9,2)\n",
    "```"
   ]
  },
  {
   "cell_type": "code",
   "execution_count": 29,
   "metadata": {},
   "outputs": [
    {
     "ename": "AttributeError",
     "evalue": "'list' object has no attribute 'split'",
     "output_type": "error",
     "traceback": [
      "\u001b[1;31m---------------------------------------------------------------------------\u001b[0m",
      "\u001b[1;31mAttributeError\u001b[0m                            Traceback (most recent call last)",
      "Cell \u001b[1;32mIn [29], line 7\u001b[0m\n\u001b[0;32m      5\u001b[0m     text \u001b[38;5;241m=\u001b[39m f\u001b[38;5;241m.\u001b[39mreadlines()\n\u001b[0;32m      6\u001b[0m     text2 \u001b[38;5;241m=\u001b[39m text[\u001b[38;5;241m1\u001b[39m::]\n\u001b[1;32m----> 7\u001b[0m     \u001b[43mtext2\u001b[49m\u001b[38;5;241;43m.\u001b[39;49m\u001b[43msplit\u001b[49m(\u001b[38;5;124m\"\u001b[39m\u001b[38;5;124m,\u001b[39m\u001b[38;5;124m\"\u001b[39m)\n\u001b[0;32m      8\u001b[0m     \u001b[38;5;28mprint\u001b[39m(text)\n\u001b[0;32m     12\u001b[0m \u001b[38;5;28mprint\u001b[39m(list1)\n",
      "\u001b[1;31mAttributeError\u001b[0m: 'list' object has no attribute 'split'"
     ]
    }
   ],
   "source": [
    "# import re\n",
    "\n",
    "# with open('../explorations/testpunkter.txt', \"r\") as f:\n",
    "#     list1 = []\n",
    "#     text = f.readlines()\n",
    "#     text = text[1::]\n",
    "#     print(text)\n",
    "#     print(cleaned)\n",
    "\n",
    "    \n",
    "# print(list1)\n",
    "\n",
    "\n",
    "\n",
    "\n",
    "# ----------------------------------------------\n",
    "# import math\n",
    "\n",
    "\n",
    "# def distance(x1,y1,x2,y2):\n",
    "#     x = (x2-x1)**2 + (y2-y1)**2\n",
    "#     dist = math.sqrt(x)\n",
    "#     return round(dist, 1)\n",
    "\n",
    "# print(distance(3,5,-2,4))\n",
    "\n",
    "\n",
    "\n",
    "\n",
    "\n",
    "\n",
    "# ------------------------------------------------\n",
    "\n",
    "# print(\"-\"*20 + \"PANDAS\" + \"-\"*20)\n",
    "# import pandas as pd\n",
    "\n",
    "# test = pd.read_csv(\"../explorations/testpunkter.txt\", sep=\",\", header=0, names=[\"x1\", \"y1\",\"x2\", \"y2\"])\n",
    "# test = test.replace(r\"[()]\", \"\", regex=True)\n",
    "# test = test.apply(pd.to_numeric, errors='coerce', axis=1)\n",
    "# test[\"Euclid Distance\"] = ((test[\"x2\"] - test[\"x1\"])**2 + (test[\"y2\"] - test[\"y1\"])**2)**(1/2)\n",
    "# test\n",
    "\n",
    "#----------------------------------------------------\n"
   ]
  },
  {
   "cell_type": "code",
   "execution_count": 56,
   "metadata": {},
   "outputs": [
    {
     "name": "stdout",
     "output_type": "stream",
     "text": [
      "['Punkt 1', ' punkt 2 \\n']\n",
      "['(1', '2)', ' (0', '0)\\n']\n",
      "['(2', '0)', ' (3', '5)\\n']\n",
      "['(-2', '-2)', ' (9', '2)']\n",
      "[['Punkt 1', ' punkt 2 \\n'], ['(1', '2)', ' (0', '0)\\n'], ['(2', '0)', ' (3', '5)\\n'], ['(-2', '-2)', ' (9', '2)']]\n",
      "['Punkt 1', ' punkt 2 \\n']\n",
      "[['(1', '2)', ' (0', '0)\\n'], ['(2', '0)', ' (3', '5)\\n'], ['(-2', '-2)', ' (9', '2)']]\n"
     ]
    }
   ],
   "source": [
    "with open('../explorations/testpunkter.txt', \"r\") as f:\n",
    "    list1 = []\n",
    "    for line in f.readlines():\n",
    "        Type = line.split(\",\")\n",
    "        list1.append(Type)\n",
    "        print(Type)\n",
    "    \n",
    "    print(list1)\n",
    "    print(list1.pop(0))\n",
    "    print(list1)\n",
    "\n",
    "        #x = Type[0]\n",
    "        #y = Type[1]\n",
    "        #print(x,y)"
   ]
  },
  {
   "cell_type": "markdown",
   "metadata": {},
   "source": [
    "### Uppgift 6 (4p)\n",
    "I den här uppgiften ska du skapa ett blackjack som är ett kortspel. Förenklat är reglerna för blackjack:\n",
    "* dealern tar två kort\n",
    "* dealern visar sitt första kort\n",
    "* spelaren tar två kort\n",
    "* spelaren får välja att ta nytt kort eller stanna\n",
    "* när spelaren stannar räknar man poängen genom:\n",
    "    * J, K, Q värda 10p\n",
    "    * A värd 1 eller 11\n",
    "    * Övriga kort värda deras valör\n",
    "* om spelarens poäng mindre eller lika med 21, vinner spelaren om hens poäng överstiger dealerns,\n",
    "annars vinner dealern\n"
   ]
  },
  {
   "cell_type": "markdown",
   "metadata": {},
   "source": [
    "### Uppgift 7, se PDF"
   ]
  },
  {
   "cell_type": "markdown",
   "metadata": {},
   "source": [
    "## Exam 2 \n",
    "\n",
    "### Uppgift 1 (3p)\n",
    "Beskriv vad koden gör och vad som skrivs ut:\n",
    "```py\n",
    "1. frukter = [\"jordgubbe\", \"vindruva\", \"grape\"]\n",
    "2. godfrukt = frukter[2]\n",
    "3. print(godfrukt[-1])\n",
    "```\n",
    "Skriv en kort kommentar för varje rad."
   ]
  },
  {
   "cell_type": "markdown",
   "metadata": {},
   "source": [
    "### Uppgift 2 (3p)\n",
    "* Skapa en funktion som tar in ett heltal n som parameter och skriver ut följande mönstret nedan.\n",
    "* Exempel när n = 5:\n",
    "```py\n",
    "x o o o o \n",
    "x x o o o \n",
    "x x x o o \n",
    "x x x x o \n",
    "x x x x x "
   ]
  },
  {
   "cell_type": "markdown",
   "metadata": {},
   "source": [
    "### Uppgift 3 (3p)\n",
    "* Skriv en funktion som tar in en radie och en höjd som inparametrar och som returnerar volymen av en\n",
    "cylinder. \n",
    "* Volymen för en cylinder är: V = pi*r^2*h\n",
    "\n",
    "Låt användaren mata in en radie och en höjd och kör funktionen. Tänk på att ta med lämplig felhantering."
   ]
  },
  {
   "cell_type": "markdown",
   "metadata": {},
   "source": [
    "### Uppgift 4 (3p)\n",
    "Läs in en textfil som heter bamba.txt och innehåller:\n",
    "```py\n",
    "v42\n",
    "Chili sin carne \n",
    "Pannkakor\n",
    "Ärtsoppa\n",
    "Kebab\n",
    "Vegetarisk lasagne\n",
    "```\n",
    "* skriv därefter ut dem med korresponderande dagar\n",
    "\n",
    "```py \n",
    "v42\n",
    "Mån: Chili sin carne \n",
    "Tis: Pannkakor\n",
    "Ons: Ärtsoppa\n",
    "Tor: Kebab\n",
    "Fre: Vegetarisk lasagne\n",
    "```"
   ]
  },
  {
   "cell_type": "markdown",
   "metadata": {},
   "source": [
    "### Uppgift 5 (4p)\n",
    "\n",
    "* Skapa en funktion som tar in en summa pengar. Den ska printa ut en representation av sedlar och mynt som\n",
    "representerar summan.\n",
    "* Exempel 3214 ska ge:\n",
    "```py \n",
    "Tusenlapp: 3 \n",
    "Tvåhundralapp: 1 \n",
    "Tiokrona: 1\n",
    "Enkrona: 4\n",
    "```"
   ]
  },
  {
   "cell_type": "markdown",
   "metadata": {},
   "source": [
    "### Uppgift 6 (4p)\n",
    "* Du har följande kod:"
   ]
  },
  {
   "cell_type": "code",
   "execution_count": null,
   "metadata": {},
   "outputs": [],
   "source": [
    "\n",
    "class Animal:\n",
    " def __init__(self, name):\n",
    " self.name = name \n",
    "\n",
    " def __str__(self):\n",
    " return f\"Animal {self.name}\"\n",
    "\n",
    "class Dog(Animal):\n",
    " # notera att __init__ är nedärvd\n",
    " def __repr__(self):\n",
    " return f\"Dog: {self.name}\"\n",
    "\n",
    "class Fish(Animal):\n",
    " def __repr__(self):\n",
    " return f\"Fish: {self.name}\"\n",
    "\n",
    "#TODO: implementera PetOwner\n",
    "class PetOwner:\n",
    " \n",
    "# manuell test av PetOwner\n",
    "owner1 = PetOwner(\"Ada\",[\"Snoopy\", \"Pluto\"], [\"Fishy\", \"Buppy\"])\n",
    "owner2 = PetOwner(\"Beda\", [\"Barkly\"] )\n",
    "Kokchun Giang\n",
    "3 / 3\n",
    "print(owner1)\n",
    "print(owner2)\n",
    "\n"
   ]
  },
  {
   "cell_type": "markdown",
   "metadata": {},
   "source": [
    "\n",
    "* Implementera PetOwner klassen så att du får liknande utskrift som nedan med det manuella testet\n",
    "```py \n",
    "Ada owns: \n",
    "[Dog: Snoopy, Dog: Pluto]\n",
    "[Fish: Fishy, Fish: Buppy]\n",
    "Beda owns: \n",
    "[Dog: Barkly]\n",
    "```\n"
   ]
  },
  {
   "cell_type": "markdown",
   "metadata": {},
   "source": []
  }
 ],
 "metadata": {
  "kernelspec": {
   "display_name": "Python 3.9.13 ('Python-Edin-Smlatic-dVlAjTDk')",
   "language": "python",
   "name": "python3"
  },
  "language_info": {
   "codemirror_mode": {
    "name": "ipython",
    "version": 3
   },
   "file_extension": ".py",
   "mimetype": "text/x-python",
   "name": "python",
   "nbconvert_exporter": "python",
   "pygments_lexer": "ipython3",
   "version": "3.9.13"
  },
  "orig_nbformat": 4,
  "vscode": {
   "interpreter": {
    "hash": "d2cee2cf671a357a2ecc6b36cb6623ac8b6ef3e9fb369891d3bf32f80d1aba61"
   }
  }
 },
 "nbformat": 4,
 "nbformat_minor": 2
}
