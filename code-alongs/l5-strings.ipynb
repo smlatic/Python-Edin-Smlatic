{
 "cells": [
  {
   "cell_type": "markdown",
   "metadata": {},
   "source": [
    "## Strings"
   ]
  },
  {
   "cell_type": "code",
   "execution_count": 6,
   "metadata": {},
   "outputs": [
    {
     "name": "stdout",
     "output_type": "stream",
     "text": [
      "John Doe\n",
      "\n",
      "Name: John Doe\n",
      "Age: 31\n",
      "Adress: Göteborg\n",
      "Phone: 123-123-123\n",
      "\n"
     ]
    }
   ],
   "source": [
    "firstname = \"John\"\n",
    "lastname = \"Doe\"\n",
    "\n",
    "# concatenate strings\n",
    "name = firstname +\" \"+ lastname\n",
    "age = 31\n",
    "adress = \"Göteborg\"\n",
    "phone = \"123-123-123\"\n",
    "\n",
    "print(name)\n",
    "\n",
    "# multiline f-string \n",
    "contact = f\"\"\"\n",
    "Name: {name}\n",
    "Age: {age}\n",
    "Adress: {adress}\n",
    "Phone: {phone}\n",
    "\"\"\"\n",
    "print(contact)\n"
   ]
  },
  {
   "cell_type": "markdown",
   "metadata": {},
   "source": [
    "## Iterate through lists and concatenates"
   ]
  },
  {
   "cell_type": "code",
   "execution_count": 11,
   "metadata": {},
   "outputs": [
    {
     "name": "stdout",
     "output_type": "stream",
     "text": [
      "Vecko Plan \n",
      "Må: Ai Intro\n",
      "Tis: Python\n",
      "Ons: Matte\n",
      "Tor: Självplugg\n",
      "\n"
     ]
    }
   ],
   "source": [
    "schedule = [\"Ai Intro\", \"Python\", \"Matte\", \"Självplugg\",]\n",
    "days = [\"Må\", \"Tis\", \"Ons\", \"Tor\", \"Fre\"]\n",
    "\n",
    "\n",
    "# \\n -> Newline\n",
    "week_plan = \"Vecko Plan \\n\"\n",
    "# Plan\n",
    "# Må: AI intro\n",
    "# Ti: python\n",
    "# etc...\n",
    "\n",
    "for day, task in zip(days, schedule):\n",
    "    week_plan += f\"{day}: {task}\\n\"\n",
    "print(week_plan)"
   ]
  },
  {
   "cell_type": "markdown",
   "metadata": {},
   "source": [
    "## Indexing"
   ]
  },
  {
   "cell_type": "code",
   "execution_count": 23,
   "metadata": {},
   "outputs": [
    {
     "name": "stdout",
     "output_type": "stream",
     "text": [
      "!\n",
      "!False\n",
      "true\n",
      "!False - it's funny because it's \n",
      "!as  tsfnybcuei' re\n",
      "er 'ieucbynfst  sa!\n"
     ]
    }
   ],
   "source": [
    "quote = \"!False - it's funny because it's true\"\n",
    "print(quote[0])\n",
    "print(quote[:6])\n",
    "print(quote[-4:])\n",
    "print(quote[:-4])\n",
    "print(quote[::2]) # 2 step forward\n",
    "print(quote[::-2]) # 2 step backwards"
   ]
  },
  {
   "cell_type": "markdown",
   "metadata": {},
   "source": [
    "## Split strings"
   ]
  },
  {
   "cell_type": "code",
   "execution_count": 27,
   "metadata": {},
   "outputs": [
    {
     "name": "stdout",
     "output_type": "stream",
     "text": [
      "[1.0, 3.0, 4.0]\n",
      "2.6666666666666665\n"
     ]
    }
   ],
   "source": [
    "numbers = input(\"Ange tre tal ( separerade med kommatecken): \")\n",
    "# 1. split the string into a list of 3 strings\n",
    "# 2. type convert each string into a float by iterating through the list\n",
    "\n",
    "numbers = [float(number) for number in numbers.split(\",\")] # List comprehension\n",
    "mean_value = sum(numbers)/len(numbers)\n",
    "print(numbers)\n",
    "print(mean_value)\n",
    "\n"
   ]
  },
  {
   "cell_type": "code",
   "execution_count": 28,
   "metadata": {},
   "outputs": [
    {
     "data": {
      "text/plain": [
       "['2', '3', '4']"
      ]
     },
     "execution_count": 28,
     "metadata": {},
     "output_type": "execute_result"
    }
   ],
   "source": [
    "numbers_test = \"2,3,4\"\n",
    "numbers_test.split(\",\")"
   ]
  },
  {
   "cell_type": "markdown",
   "metadata": {},
   "source": [
    "## Regular expression\n",
    "- find patterns\n",
    "- \"advanced search\"\n",
    "- edit\n",
    "- match"
   ]
  },
  {
   "cell_type": "code",
   "execution_count": 40,
   "metadata": {},
   "outputs": [
    {
     "data": {
      "text/plain": [
       "['021-123123']"
      ]
     },
     "execution_count": 40,
     "metadata": {},
     "output_type": "execute_result"
    }
   ],
   "source": [
    "import re\n",
    "\n",
    "text = \"Mitt telefonnummer är 021-123123, Bedas nummer är: 1231-12313\"\n",
    "\n",
    "# extract the numbers\n",
    "match1 = re.findall(r\"\\d{3}-\\d{6}\", text) # r \"\" raw string\n",
    "match1"
   ]
  },
  {
   "cell_type": "code",
   "execution_count": 46,
   "metadata": {},
   "outputs": [
    {
     "name": "stdout",
     "output_type": "stream",
     "text": [
      "['katt', 'hatt', 'shackmatt']\n"
     ]
    }
   ],
   "source": [
    "text = \"Det var en gång en katt, som tog på sig en hatt, och spelade schack, shackmatt\"\n",
    "\n",
    "match = re.findall(r\"[a-zA-Z]*tt[a-zA-Z]*\", text)\n",
    "print(match)"
   ]
  },
  {
   "cell_type": "code",
   "execution_count": null,
   "metadata": {},
   "outputs": [],
   "source": []
  }
 ],
 "metadata": {
  "kernelspec": {
   "display_name": "Python 3.9.13 ('Python-Edin-Smlatic-dVlAjTDk')",
   "language": "python",
   "name": "python3"
  },
  "language_info": {
   "codemirror_mode": {
    "name": "ipython",
    "version": 3
   },
   "file_extension": ".py",
   "mimetype": "text/x-python",
   "name": "python",
   "nbconvert_exporter": "python",
   "pygments_lexer": "ipython3",
   "version": "3.9.13"
  },
  "orig_nbformat": 4,
  "vscode": {
   "interpreter": {
    "hash": "d2cee2cf671a357a2ecc6b36cb6623ac8b6ef3e9fb369891d3bf32f80d1aba61"
   }
  }
 },
 "nbformat": 4,
 "nbformat_minor": 2
}
