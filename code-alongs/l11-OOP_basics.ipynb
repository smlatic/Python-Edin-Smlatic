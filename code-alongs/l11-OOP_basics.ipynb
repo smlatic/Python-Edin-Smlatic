{
 "cells": [
  {
   "cell_type": "markdown",
   "metadata": {},
   "source": [
    "Objekt - behållare av state(data) och behaviors(methods) \n",
    "\n",
    "Rabbit # class\n",
    "\n",
    "name\n",
    "breed\n",
    "age\n",
    "color: -->    state\n",
    "\n",
    "eat()\n",
    "sleep()\n",
    "binky(): --- > behaviours\n",
    "\n",
    "state + behaviours ---> attributes\n",
    "\n",
    "------------------------------------------------\n",
    "\n",
    "class - \"template\"\n",
    "\n",
    "från en klass kan vi skapa instancer (fler kaniner) av rabbitklassen\n",
    "med olika states. \n",
    "\n",
    "Metoder - funktioner som är bundna till en instans\n",
    "\n",
    "\n",
    "\n"
   ]
  },
  {
   "cell_type": "markdown",
   "metadata": {},
   "source": [
    "-------------------\n",
    "## OOP basics"
   ]
  },
  {
   "cell_type": "code",
   "execution_count": 1,
   "metadata": {},
   "outputs": [
    {
     "data": {
      "text/plain": [
       "<__main__.Person at 0x17068e26d30>"
      ]
     },
     "execution_count": 1,
     "metadata": {},
     "output_type": "execute_result"
    }
   ],
   "source": [
    "# created a class called Person\n",
    "class Person:\n",
    "    pass\n",
    "\n",
    "# instantiates an instance from the class Person using the callable syntax()\n",
    "person1 = Person()\n",
    "person1"
   ]
  },
  {
   "cell_type": "code",
   "execution_count": 2,
   "metadata": {},
   "outputs": [
    {
     "data": {
      "text/plain": [
       "'Ada'"
      ]
     },
     "execution_count": 2,
     "metadata": {},
     "output_type": "execute_result"
    }
   ],
   "source": [
    "# creates an instance attribute on the fly\n",
    "person1.name = \"Ada\"\n",
    "person1.name"
   ]
  },
  {
   "cell_type": "code",
   "execution_count": 3,
   "metadata": {},
   "outputs": [
    {
     "data": {
      "text/plain": [
       "<__main__.Person at 0x17068e26c10>"
      ]
     },
     "execution_count": 3,
     "metadata": {},
     "output_type": "execute_result"
    }
   ],
   "source": [
    "person2 = Person()\n",
    "person2"
   ]
  },
  {
   "cell_type": "code",
   "execution_count": 4,
   "metadata": {},
   "outputs": [
    {
     "ename": "AttributeError",
     "evalue": "'Person' object has no attribute 'name'",
     "output_type": "error",
     "traceback": [
      "\u001b[1;31m---------------------------------------------------------------------------\u001b[0m",
      "\u001b[1;31mAttributeError\u001b[0m                            Traceback (most recent call last)",
      "Cell \u001b[1;32mIn [4], line 1\u001b[0m\n\u001b[1;32m----> 1\u001b[0m \u001b[43mperson2\u001b[49m\u001b[38;5;241;43m.\u001b[39;49m\u001b[43mname\u001b[49m\n",
      "\u001b[1;31mAttributeError\u001b[0m: 'Person' object has no attribute 'name'"
     ]
    }
   ],
   "source": [
    "person2.name"
   ]
  },
  {
   "cell_type": "markdown",
   "metadata": {},
   "source": [
    "## `__init__()`\n",
    "\n",
    "- dunder init method (special method)\n",
    "- initializer method that runs after the object has been created\n",
    "- used for setting inital values of attributes to an instance object\n"
   ]
  },
  {
   "cell_type": "code",
   "execution_count": 14,
   "metadata": {},
   "outputs": [
    {
     "name": "stdout",
     "output_type": "stream",
     "text": [
      "person1.name='Edo'\n",
      "person2.name='Cherry'\n",
      "person2.program='Data science'\n"
     ]
    }
   ],
   "source": [
    "class Antagning:\n",
    "    # initializer\n",
    "    # for methods it's a convention to have first argument as \"self\"\n",
    "    def __init__(self, school, program, name, accept):\n",
    "        # assigns arguments to instance attributes\n",
    "        self.school = school\n",
    "        self.program = program\n",
    "        self.name = name\n",
    "        self.accept = accept\n",
    "    \n",
    "    # __repr__() a representation for the instance object -> used for other developers\n",
    "    # pronounciation: \"dunder repper\"\n",
    "    def __repr__(self):\n",
    "        return f\"Antagning('{self.school}', '{self.program}', '{self.name}', '{self.accept}')\"\n",
    "\n",
    "# when a method is called  -> the instance itself is injected to the method as the first argument\n",
    "\n",
    "\n",
    "# here we instantiate from the class Antagning\n",
    "person1 = Antagning(\"Supa cool school\", \"AI\", \"Edo\", accept=True)\n",
    "person2 = Antagning(\"Okay school\", \"Java\", \"Cherry\", False)\n",
    "\n",
    "\n",
    "# accessed instance attributes using the dot notation\n",
    "print(f\"{person1.name=}\")\n",
    "print(f\"{person2.name=}\")\n",
    "\n",
    "# using the dot notation we change an instance attribute of person2\n",
    "person2.program = \"Data science\"\n",
    "print(f\"{person2.program=}\")\n"
   ]
  },
  {
   "cell_type": "code",
   "execution_count": 13,
   "metadata": {},
   "outputs": [
    {
     "data": {
      "text/plain": [
       "Antagning('Supa cool school', 'AI', 'Edo', 'True')"
      ]
     },
     "execution_count": 13,
     "metadata": {},
     "output_type": "execute_result"
    }
   ],
   "source": [
    "person1"
   ]
  },
  {
   "cell_type": "code",
   "execution_count": 10,
   "metadata": {},
   "outputs": [
    {
     "data": {
      "text/plain": [
       "[1, 2, 3]"
      ]
     },
     "execution_count": 10,
     "metadata": {},
     "output_type": "execute_result"
    }
   ],
   "source": [
    "# the __repr__ of list gives output [1, 2, 3]\n",
    "example_list = [1,2,3]\n",
    "example_list"
   ]
  },
  {
   "cell_type": "markdown",
   "metadata": {},
   "source": [
    "## Encapsulation\n",
    "\n",
    "- hide information that is used within the class but shouldn't be accessed from outside the class\n",
    "- so want to create some kind of interface between attributes within the class and outside to prevent from misuse\n",
    "- in many OOP languages, we can make attributes private, this is not possible in Python\n",
    "- all attributes in Python are public\n",
    "- in Python: private by convention, use an underscore before the attribute, e.g _name\n",
    "- also possible to use double underscore __name (symbol mangling)"
   ]
  },
  {
   "cell_type": "code",
   "execution_count": 23,
   "metadata": {},
   "outputs": [
    {
     "name": "stdout",
     "output_type": "stream",
     "text": [
      "Patient(name='Ada', diagnosis='Influenza')\n",
      "Patient(name='Beda', diagnosis='Covid')\n",
      "Patient(name='Ceda', diagnosis='Influenza')\n",
      "Patient(name='Ceda', diagnosis='Influenza')\n",
      "{'_name': 'Ceda', '_Patient__diagnosis': 'Influenza', '__diagnosis': 'Migraine'}\n"
     ]
    },
    {
     "data": {
      "text/plain": [
       "'Influenza'"
      ]
     },
     "execution_count": 23,
     "metadata": {},
     "output_type": "execute_result"
    }
   ],
   "source": [
    "class Patient:\n",
    "    def __init__(self, name, diagnosis):\n",
    "        self._name = name\n",
    "        self.__diagnosis = diagnosis\n",
    "    \n",
    "    def __repr__(self):\n",
    "        return f\"Patient(name='{self._name}', diagnosis='{self.__diagnosis}')\"\n",
    "\n",
    "\n",
    "patient1 = Patient(\"Ada\", \"Influenza\")\n",
    "patient2 = Patient(\"Beda\", \"Covid\")\n",
    "\n",
    "print(patient1)\n",
    "print(patient2)\n",
    "\n",
    "# can access the private attribute, but really shouldn't\n",
    "patient1._name = \"Ceda\"\n",
    "print(patient1)\n",
    "\n",
    "# due to name mangling\n",
    "patient1.__diagnosis = \"Migraine\"\n",
    "print(patient1)\n",
    "\n",
    "print(patient1.__dict__)\n",
    "patient1._Patient__diagnosis"
   ]
  },
  {
   "cell_type": "code",
   "execution_count": 37,
   "metadata": {},
   "outputs": [
    {
     "name": "stdout",
     "output_type": "stream",
     "text": [
      "OldCoinsStash(owner='Ragnar Lothbrok')\n",
      "In stash: 0 riksdaler, 0 skillingar\n",
      "In stash: 20 riksdaler, 10 skillingar\n",
      "You can only deposit positive values\n",
      "Cant withdraw more than in stash\n"
     ]
    }
   ],
   "source": [
    "# another example\n",
    "class OldCoinsStash: # Use capitalletters for class\n",
    "    def __init__(self, owner):\n",
    "        self.owner = owner\n",
    "\n",
    "        # private attributes\n",
    "        self._riksdaler = 0\n",
    "        self._skilling = 0\n",
    "\n",
    "    def deposit(self, riksdaler, skilling):\n",
    "\n",
    "        if riksdaler < 0 or skilling < 0:\n",
    "            raise ValueError(\"You can only deposit positive values\")\n",
    "        self._riksdaler += riksdaler\n",
    "        self._skilling += skilling\n",
    "\n",
    "    def withdraw(self, riksdaler, skilling):\n",
    "\n",
    "        if riksdaler > self._riksdaler or skilling > self._skilling:\n",
    "            raise ValueError(\"Cant withdraw more than in stash\")\n",
    "\n",
    "        # check also for negative values\n",
    "        self._riksdaler -= riksdaler\n",
    "        self._skilling -= skilling\n",
    "\n",
    "    def balance(self):\n",
    "        return f\"In stash: {self._riksdaler} riksdaler, {self._skilling} skillingar\"\n",
    "\n",
    "\n",
    "    def __repr__(self):\n",
    "        return f\"OldCoinsStash(owner='{self.owner}')\"\n",
    "\n",
    "stash = OldCoinsStash(\"Ragnar Lothbrok\")\n",
    "print(stash)\n",
    "print(stash.balance())\n",
    "\n",
    "stash.deposit(20, 10)\n",
    "print(stash.balance())\n",
    "\n",
    "try:\n",
    "    # can't deposit negative amount\n",
    "    stash.deposit(-5, 10)\n",
    "    print(stash.balance())\n",
    "except ValueError as err:\n",
    "    print(err)\n",
    "\n",
    "try:\n",
    "    # can't withdraw more than it exists\n",
    "    stash.withdraw(50, 10)\n",
    "    print(stash.balance())\n",
    "except ValueError as err:\n",
    "    print(err)\n",
    "\n"
   ]
  },
  {
   "cell_type": "markdown",
   "metadata": {},
   "source": [
    "## Property\n",
    "\n",
    "- want to expose few to none bare attributes\n",
    "- when wanting to change attributes\n",
    "    - getter and setter (common in other languages)\n",
    "    - in Python make into property\n",
    "\n",
    "With Property:\n",
    "- can inlude error handling\n",
    "- computed properties\n",
    "- can make read-only and write-only properties"
   ]
  },
  {
   "cell_type": "code",
   "execution_count": 47,
   "metadata": {},
   "outputs": [
    {
     "name": "stdout",
     "output_type": "stream",
     "text": [
      "age setter is running\n"
     ]
    },
    {
     "ename": "AttributeError",
     "evalue": "can't set attribute",
     "output_type": "error",
     "traceback": [
      "\u001b[1;31m---------------------------------------------------------------------------\u001b[0m",
      "\u001b[1;31mAttributeError\u001b[0m                            Traceback (most recent call last)",
      "Cell \u001b[1;32mIn [47], line 40\u001b[0m\n\u001b[0;32m     36\u001b[0m         \u001b[38;5;28mself\u001b[39m\u001b[38;5;241m.\u001b[39m_age \u001b[38;5;241m=\u001b[39m value\n\u001b[0;32m     39\u001b[0m student1 \u001b[38;5;241m=\u001b[39m Student(\u001b[38;5;124m\"\u001b[39m\u001b[38;5;124mDavid\u001b[39m\u001b[38;5;124m\"\u001b[39m, \u001b[38;5;241m30\u001b[39m, \u001b[38;5;28;01mTrue\u001b[39;00m)\n\u001b[1;32m---> 40\u001b[0m \u001b[43mstudent1\u001b[49m\u001b[38;5;241;43m.\u001b[39;49m\u001b[43mname\u001b[49m \u001b[38;5;241m=\u001b[39m \u001b[38;5;124m\"\u001b[39m\u001b[38;5;124mElla\u001b[39m\u001b[38;5;124m\"\u001b[39m\n",
      "\u001b[1;31mAttributeError\u001b[0m: can't set attribute"
     ]
    }
   ],
   "source": [
    "class Student:\n",
    "    \"\"\"Student class for representing students with name, age and activity\"\"\" # docstring\n",
    "\n",
    "    # note type hinting\n",
    "    def __init__(self, name: str, age: int, active: bool) -> None:\n",
    "        self._name = name\n",
    "        self.age = age\n",
    "        self.active = active\n",
    "\n",
    "    # read-only property - @ symbol makes it into a decorator\n",
    "    @property\n",
    "    def name(self) -> str: \n",
    "        \"\"\"Read-only property, we can't write to name\"\"\"\n",
    "        return self._name\n",
    "    \n",
    "    # getter\n",
    "    @property\n",
    "    def age(self) -> int:\n",
    "        print(\"age getter is running .... \")\n",
    "        return self._age\n",
    "    \n",
    "    # setter\n",
    "    @age.setter\n",
    "    def age(self, value: int):\n",
    "        \"\"\"Setter for age with error handling\"\"\"\n",
    "\n",
    "        print(\"age setter is running\")\n",
    "\n",
    "        # validation code\n",
    "        if not isinstance(value, int):\n",
    "            raise TypeError(f\"Age must be an int, not {type(value)}\")\n",
    "        \n",
    "        if not (0 <= value <= 125):\n",
    "            raise ValueError(\"Age must be between 0 and 125\")\n",
    "        \n",
    "        self._age = value\n",
    "\n",
    "\n",
    "student1 = Student(\"David\", 30, True)\n",
    "student1.name = \"Ella\""
   ]
  },
  {
   "cell_type": "code",
   "execution_count": null,
   "metadata": {},
   "outputs": [],
   "source": []
  },
  {
   "cell_type": "code",
   "execution_count": null,
   "metadata": {},
   "outputs": [],
   "source": [
    "help(Student)"
   ]
  },
  {
   "cell_type": "code",
   "execution_count": null,
   "metadata": {},
   "outputs": [],
   "source": []
  }
 ],
 "metadata": {
  "kernelspec": {
   "display_name": "Python 3.9.13 ('Python-Edin-Smlatic-dVlAjTDk')",
   "language": "python",
   "name": "python3"
  },
  "language_info": {
   "codemirror_mode": {
    "name": "ipython",
    "version": 3
   },
   "file_extension": ".py",
   "mimetype": "text/x-python",
   "name": "python",
   "nbconvert_exporter": "python",
   "pygments_lexer": "ipython3",
   "version": "3.9.13"
  },
  "orig_nbformat": 4,
  "vscode": {
   "interpreter": {
    "hash": "d2cee2cf671a357a2ecc6b36cb6623ac8b6ef3e9fb369891d3bf32f80d1aba61"
   }
  }
 },
 "nbformat": 4,
 "nbformat_minor": 2
}
