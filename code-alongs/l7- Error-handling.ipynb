{
 "cells": [
  {
   "cell_type": "markdown",
   "metadata": {},
   "source": [
    "## Errors"
   ]
  },
  {
   "cell_type": "markdown",
   "metadata": {},
   "source": [
    "* Syntax error - doesnt understand\n",
    "\n",
    "\n",
    "* Logical errors - error that occurs when program runs but produces incorrect results\n",
    "\n",
    "\n",
    "* Exception errors - errors detected during  execution, understands what to do but cant do it\n",
    "\n"
   ]
  },
  {
   "cell_type": "code",
   "execution_count": null,
   "metadata": {},
   "outputs": [],
   "source": []
  }
 ],
 "metadata": {
  "kernelspec": {
   "display_name": "Python 3.9.13 ('Python-Edin-Smlatic-dVlAjTDk')",
   "language": "python",
   "name": "python3"
  },
  "language_info": {
   "codemirror_mode": {
    "name": "ipython",
    "version": 3
   },
   "file_extension": ".py",
   "mimetype": "text/x-python",
   "name": "python",
   "nbconvert_exporter": "python",
   "pygments_lexer": "ipython3",
   "version": "3.9.13"
  },
  "orig_nbformat": 4,
  "vscode": {
   "interpreter": {
    "hash": "d2cee2cf671a357a2ecc6b36cb6623ac8b6ef3e9fb369891d3bf32f80d1aba61"
   }
  }
 },
 "nbformat": 4,
 "nbformat_minor": 2
}
