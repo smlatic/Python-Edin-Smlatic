{
 "cells": [
  {
   "cell_type": "markdown",
   "metadata": {},
   "source": [
    "## Dictionary\n",
    "- datastructure that stores data in key:value pairs"
   ]
  },
  {
   "cell_type": "code",
   "execution_count": 7,
   "metadata": {},
   "outputs": [
    {
     "name": "stdout",
     "output_type": "stream",
     "text": [
      "person dictionary {'name': 'kokchun', 'age': 31, 'work': 'AI teacher', 'interests': ['math', 'yoga', 'gardening', 'programmering', 'walking'], 'phone': 112}\n",
      "person work: AI teacher\n",
      "person age: 31\n",
      "person interests: ['math', 'yoga'] \n",
      "\n",
      "Kokchun likes math\n",
      "Kokchun likes yoga\n",
      "Kokchun likes gardening\n",
      "Kokchun likes programmering\n",
      "Kokchun likes walking\n"
     ]
    }
   ],
   "source": [
    "# create a dictionary\n",
    "person = dict(\n",
    "    name = \"kokchun\",\n",
    "    age = 31, \n",
    "    work = \"AI teacher\", \n",
    "    interests = [\"math\", \"yoga\", \"gardening\", \"programmering\", \"walking\"], \n",
    "    phone = 112\n",
    ")\n",
    "\n",
    "print(f\"person dictionary {person}\")\n",
    "print(f\"person work: {person['work']}\")\n",
    "print(f\"person age: {person['age']}\")\n",
    "print(f\"person interests: {person['interests'][:2]} \\n\")\n",
    "\n",
    "for interest in person[\"interests\"]:\n",
    "    print(f\"Kokchun likes {interest}\")\n"
   ]
  },
  {
   "cell_type": "code",
   "execution_count": 16,
   "metadata": {},
   "outputs": [
    {
     "name": "stdout",
     "output_type": "stream",
     "text": [
      "Vi ska lära oss de här glosorna \n",
      "\n",
      "assign - assigns a value to a variable\n",
      "dictionary - datastructure to store data in key-value pairs\n",
      "method - a function bound to an object\n"
     ]
    }
   ],
   "source": [
    "# create dictionary with curly brace {}\n",
    "\n",
    "words = {\n",
    "    \"assign\": \"assigns a value to a variable\",\n",
    "    \"dictionary\": \"datastructure to store data in key-value pairs\",\n",
    "    \"method\": \"a function bound to an object\",\n",
    "    }\n",
    "\n",
    "print(\"Vi ska lära oss de här glosorna \\n\")\n",
    "\n",
    "for key in words:\n",
    "    print(key,\"-\",words[key])"
   ]
  },
  {
   "cell_type": "code",
   "execution_count": 23,
   "metadata": {},
   "outputs": [
    {
     "name": "stdout",
     "output_type": "stream",
     "text": [
      "Glosor \n",
      "\n",
      "assign         : assigns a value to a variable\n",
      "dictionary     : datastructure to store data in key-value pairs\n",
      "method         : a function bound to an object\n"
     ]
    }
   ],
   "source": [
    "print(\"Glosor \\n\")\n",
    "# key:value\n",
    "for key, value in words.items():\n",
    "    print(f\"{key:<15}: {value}\") # right align with width 20 spaces"
   ]
  },
  {
   "cell_type": "code",
   "execution_count": 32,
   "metadata": {},
   "outputs": [
    {
     "name": "stdout",
     "output_type": "stream",
     "text": [
      "{'F': 0, 'E': 10, 'D': 20, 'C': 30, 'B': 40, 'A': 50}\n",
      "{'F': '< 10', 'E': 10, 'D': 20, 'C': 30, 'B': 40, 'A': 50, 'Course': 'Programmering 1'}\n"
     ]
    }
   ],
   "source": [
    "# F < 10, E: 10, D: 20, C: 30, B: 40, A:50\n",
    "\n",
    "# empty dictionary\n",
    "grade_limit = {}\n",
    "\n",
    "for i, character in enumerate(\"ABCDEF\"[::-1]):\n",
    "    grade_limit[character] = i*10\n",
    "\n",
    "print(grade_limit)\n",
    "\n",
    "# assigns a new value that is associated with the key F.\n",
    "grade_limit[\"F\"] = \"< 10\"\n",
    "grade_limit[\"Course\"] = \"Programmering 1\"\n",
    "\n",
    "print(grade_limit)\n"
   ]
  },
  {
   "cell_type": "markdown",
   "metadata": {},
   "source": [
    "## Dictionary comprehension"
   ]
  },
  {
   "cell_type": "code",
   "execution_count": 42,
   "metadata": {},
   "outputs": [
    {
     "name": "stdout",
     "output_type": "stream",
     "text": [
      "grade_limit={'F': 0, 'E': 10, 'D': 20, 'C': 30, 'B': 40, 'A': 50}\n",
      "scores=[39, 59, 34, 45, 23, 36, 37, 46, 10, 49, 52, 21, 24, 40, 50, 23, 58, 19, 25, 44, 13, 48, 42, 55, 58, 23, 6, 27, 52, 40]\n",
      "{'F': 0, 'E': 0, 'D': 0, 'C': 0, 'B': 0, 'A': 0}\n",
      "{'F': 1, 'E': 3, 'D': 7, 'C': 4, 'B': 8, 'A': 7}\n"
     ]
    }
   ],
   "source": [
    "import random\n",
    "\n",
    "grade_limit = {grade: i*10 for i, grade in enumerate(\"ABCDEF\"[::-1])}\n",
    "grade_limit\n",
    "\n",
    "def generate_scores(number_students):\n",
    "    random.seed(1337)\n",
    "    scores = [random.randint(0, 60) for _ in range(number_students)]\n",
    "    return scores\n",
    "\n",
    "scores = generate_scores(30)\n",
    "print(f\"{grade_limit=}\")\n",
    "print(f\"{scores=}\")\n",
    "\n",
    "# Number of students in each grade category\n",
    "students_in_grade = {key: 0 for key in grade_limit}\n",
    "print(students_in_grade)\n",
    "\n",
    "for score in scores:\n",
    "    for grade, limit in grade_limit.items():\n",
    "        if limit <= score < limit+10:\n",
    "            students_in_grade[grade] += 1\n",
    "\n",
    "print(students_in_grade)"
   ]
  },
  {
   "cell_type": "code",
   "execution_count": 46,
   "metadata": {},
   "outputs": [
    {
     "data": {
      "text/plain": [
       "30"
      ]
     },
     "execution_count": 46,
     "metadata": {},
     "output_type": "execute_result"
    }
   ],
   "source": [
    "# check that all student have been put into categories\n",
    "total_students = 0\n",
    "for _, number_students in students_in_grade.items():\n",
    "    total_students += number_students\n",
    "\n",
    "total_students\n"
   ]
  },
  {
   "cell_type": "code",
   "execution_count": null,
   "metadata": {},
   "outputs": [],
   "source": []
  }
 ],
 "metadata": {
  "kernelspec": {
   "display_name": "Python 3.9.13 ('Python-Edin-Smlatic-dVlAjTDk')",
   "language": "python",
   "name": "python3"
  },
  "language_info": {
   "codemirror_mode": {
    "name": "ipython",
    "version": 3
   },
   "file_extension": ".py",
   "mimetype": "text/x-python",
   "name": "python",
   "nbconvert_exporter": "python",
   "pygments_lexer": "ipython3",
   "version": "3.9.13"
  },
  "orig_nbformat": 4,
  "vscode": {
   "interpreter": {
    "hash": "d2cee2cf671a357a2ecc6b36cb6623ac8b6ef3e9fb369891d3bf32f80d1aba61"
   }
  }
 },
 "nbformat": 4,
 "nbformat_minor": 2
}
