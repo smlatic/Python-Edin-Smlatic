{
 "cells": [
  {
   "cell_type": "markdown",
   "metadata": {},
   "source": [
    "\n",
    "<a href=\"https://colab.research.google.com/github/kokchun/Python-course-AI22/blob/main/Exercises/09-dictionary-exercises.ipynb\" target=\"_parent\"><img align=\"left\" src=\"https://colab.research.google.com/assets/colab-badge.svg\" alt=\"Open In Colab\"/></a> &nbsp; to see hints and answers."
   ]
  },
  {
   "cell_type": "markdown",
   "metadata": {},
   "source": [
    "# dictionary exercises\n",
    "\n",
    "---\n",
    "These are introductory exercises in Python with focus in **dictionary**.\n",
    "\n",
    "<p class = \"alert alert-info\" role=\"alert\"><b>Remember</b> to use <b>descriptive variable and function names</b> in order to get readable code </p>\n",
    "\n",
    "<p class = \"alert alert-info\" role=\"alert\"><b>Remember</b> to format your answers in a neat way using <b>f-strings</b>\n",
    "\n",
    "<p class = \"alert alert-info\" role=\"alert\"><b>Remember</b> to format your input questions in a pedagogical way to guide the user\n",
    "\n",
    "The number of stars (\\*), (\\*\\*), (\\*\\*\\*) denotes the difficulty level of the task\n",
    "\n",
    "---"
   ]
  },
  {
   "cell_type": "markdown",
   "metadata": {},
   "source": [
    "## 1. Curriculum (*)\n",
    "\n",
    "Create a dictionary containing all the courses that you will study in this program, with the course names as **keys** and the amount of points as **value**. Then calculate the number of points that you will study in total. (*)\n",
    "\n",
    "<details>\n",
    "\n",
    "<summary>Answer</summary>\n",
    "\n",
    "Look at your course program curriculum\n",
    "\n",
    "</details>\n"
   ]
  },
  {
   "cell_type": "code",
   "execution_count": 14,
   "metadata": {},
   "outputs": [
    {
     "name": "stdout",
     "output_type": "stream",
     "text": [
      "Databaser : 25\n",
      "datadehandling : 25\n",
      "Djup Maskininlärning : 40\n",
      "Examensarbete : 15\n",
      "Introduktionskurs till AI : 5\n",
      "LIA 1 : 40\n",
      "LIA 3 : 70\n",
      "Maskininlärning : 45\n",
      "Praktisk maskininlärning : 35\n",
      "Programmering med Python : 40\n",
      "Projektmetodik : 10\n",
      "Statistiska metoder : 30\n",
      "Linjär algebra : 20\n",
      "\n",
      "Total points: 400\n"
     ]
    }
   ],
   "source": [
    "courses = {\n",
    "    \"Databaser\": 25,\n",
    "    \"datadehandling\": 25,\n",
    "    \"Djup Maskininlärning\": 40,\n",
    "    \"Examensarbete\": 15,\n",
    "    \"Introduktionskurs till AI\": 5,\n",
    "    \"LIA 1\": 40,\n",
    "    \"LIA 3\": 70,\n",
    "    \"Maskininlärning\": 45,\n",
    "    \"Praktisk maskininlärning\": 35,\n",
    "    \"Programmering med Python\": 40,\n",
    "    \"Projektmetodik\": 10,\n",
    "    \"Statistiska metoder\": 30,\n",
    "    \"Linjär algebra\": 20,\n",
    "}\n",
    "\n",
    "\n",
    "for key, value in courses.items() :\n",
    "    print (key, \":\", value)\n",
    "\n",
    "total_points = sum(courses.values()) # sum(), d.values()\n",
    "print(f\"\\nTotal points: {total_points}\")"
   ]
  },
  {
   "cell_type": "markdown",
   "metadata": {},
   "source": [
    "---\n",
    "## 2. Dice simulation (*)\n",
    "\n",
    "Simulate 1000000 dice rolls and save the number of ones, twos, ..., sixes in a dictionary. Then print them out in the terminal. (*)\n",
    "\n",
    "<details>\n",
    "\n",
    "<summary>Answer</summary>\n",
    "\n",
    "```\n",
    "1: 166481\n",
    "2: 166844\n",
    "3: 166154\n",
    "4: 167400\n",
    "5: 167260\n",
    "6: 165861\n",
    "```\n",
    "\n",
    "</details>\n"
   ]
  },
  {
   "cell_type": "code",
   "execution_count": 31,
   "metadata": {},
   "outputs": [
    {
     "data": {
      "text/html": [
       "<div>\n",
       "<style scoped>\n",
       "    .dataframe tbody tr th:only-of-type {\n",
       "        vertical-align: middle;\n",
       "    }\n",
       "\n",
       "    .dataframe tbody tr th {\n",
       "        vertical-align: top;\n",
       "    }\n",
       "\n",
       "    .dataframe thead th {\n",
       "        text-align: right;\n",
       "    }\n",
       "</style>\n",
       "<table border=\"1\" class=\"dataframe\">\n",
       "  <thead>\n",
       "    <tr style=\"text-align: right;\">\n",
       "      <th></th>\n",
       "      <th>Ones</th>\n",
       "      <th>Twos</th>\n",
       "      <th>Threes</th>\n",
       "      <th>Fours</th>\n",
       "      <th>Fives</th>\n",
       "      <th>Sixes</th>\n",
       "      <th>Total Dice Tossed</th>\n",
       "    </tr>\n",
       "  </thead>\n",
       "  <tbody>\n",
       "    <tr>\n",
       "      <th>Times Landed</th>\n",
       "      <td>165896</td>\n",
       "      <td>166791</td>\n",
       "      <td>166651</td>\n",
       "      <td>166905</td>\n",
       "      <td>167302</td>\n",
       "      <td>166455</td>\n",
       "      <td>1000000</td>\n",
       "    </tr>\n",
       "  </tbody>\n",
       "</table>\n",
       "</div>"
      ],
      "text/plain": [
       "                Ones    Twos  Threes   Fours   Fives   Sixes  \\\n",
       "Times Landed  165896  166791  166651  166905  167302  166455   \n",
       "\n",
       "              Total Dice Tossed  \n",
       "Times Landed            1000000  "
      ]
     },
     "execution_count": 31,
     "metadata": {},
     "output_type": "execute_result"
    }
   ],
   "source": [
    "import random\n",
    "import pandas as pd\n",
    "\n",
    "\n",
    "# for loop\n",
    "#rolls = []\n",
    "#for x in range(1, 1000000):\n",
    "#    x = random.randint(1, 6)\n",
    "#    rolls.append(x)\n",
    "\n",
    "\n",
    "# list comprehension\n",
    "rolls = [random.randint(1, 6) for x in range(1, 1000001)]\n",
    "\n",
    "# create dict keys.\n",
    "count_nr_dice = {\n",
    "    \"Ones\": rolls.count(1),\n",
    "    \"Twos\": rolls.count(2),\n",
    "    \"Threes\": rolls.count(3),\n",
    "    \"Fours\": rolls.count(4),\n",
    "    \"Fives\": rolls.count(5),\n",
    "    \"Sixes\": rolls.count(6)\n",
    "}\n",
    "sum(count_nr_dice.values())\n",
    "\n",
    "data = pd.DataFrame(count_nr_dice, index=[\"Times Landed\"])\n",
    "data[\"Total Dice Tossed\"] = sum(count_nr_dice.values())\n",
    "data\n",
    "\n",
    "\n",
    "\n"
   ]
  },
  {
   "cell_type": "markdown",
   "metadata": {},
   "source": [
    "---\n",
    "## 3. Pokemon list (*)\n",
    "\n",
    "Read in the file pokemon_list.txt in Python. Create a variable with name pokedex with the key:value **\"pokemon\":\"type, index\"**. For example when searching for the keys \"Gengar\" and \"Pikachu\": (*)\n",
    "\n",
    "```python\n",
    "\n",
    "print(pokedex[\"Gengar\"])\n",
    "print(pokedex[\"Pikachu\"])\n",
    "\n",
    "Spöke/Gift, 94\n",
    "Elektrisk, 25\n",
    "```\n",
    "\n",
    "<details>\n",
    "\n",
    "<summary>Answer</summary>\n",
    "\n",
    "```\n",
    "{'Bulbasaur': 'Gräs/Gift, 1',\n",
    " 'Ivysaur': 'Gräs/Gift, 2',\n",
    " 'Venusaur': 'Gräs/Gift, 3',\n",
    " 'Charmander': 'Eld, 4',\n",
    " 'Charmeleon': 'Eld, 5',\n",
    " 'Charizard': 'Eld/Flygande, 6',\n",
    " 'Squirtle': 'Vatten, 7',\n",
    " 'Wartortle': 'Vatten, 8',\n",
    " 'Blastoise': 'Vatten, 9',\n",
    " ...\n",
    "}\n",
    "```\n",
    "\n",
    "</details>\n"
   ]
  },
  {
   "cell_type": "code",
   "execution_count": 35,
   "metadata": {},
   "outputs": [
    {
     "data": {
      "text/html": [
       "<div>\n",
       "<style scoped>\n",
       "    .dataframe tbody tr th:only-of-type {\n",
       "        vertical-align: middle;\n",
       "    }\n",
       "\n",
       "    .dataframe tbody tr th {\n",
       "        vertical-align: top;\n",
       "    }\n",
       "\n",
       "    .dataframe thead th {\n",
       "        text-align: right;\n",
       "    }\n",
       "</style>\n",
       "<table border=\"1\" class=\"dataframe\">\n",
       "  <thead>\n",
       "    <tr style=\"text-align: right;\">\n",
       "      <th></th>\n",
       "      <th>Index</th>\n",
       "      <th>Pokemon</th>\n",
       "      <th>Type</th>\n",
       "    </tr>\n",
       "  </thead>\n",
       "  <tbody>\n",
       "    <tr>\n",
       "      <th>24</th>\n",
       "      <td>25</td>\n",
       "      <td>Pikachu</td>\n",
       "      <td>Elektrisk</td>\n",
       "    </tr>\n",
       "  </tbody>\n",
       "</table>\n",
       "</div>"
      ],
      "text/plain": [
       "    Index  Pokemon       Type\n",
       "24     25  Pikachu  Elektrisk"
      ]
     },
     "execution_count": 35,
     "metadata": {},
     "output_type": "execute_result"
    }
   ],
   "source": [
    "\n",
    "import pandas as pd\n",
    "\n",
    "pokemon = pd.read_csv(\"pokemon_list.txt\", sep=\" \", names=[\"Index\", \"Pokemon\", \"Type\"])\n",
    "pokemon\n",
    "\n",
    "def pokemoninfo(name_of_pokemon):\n",
    "    find = pokemon[pokemon[\"Pokemon\"].str.contains(name_of_pokemon)]\n",
    "    return find\n",
    "\n",
    "pokemoninfo(\"Pikachu\")\n"
   ]
  },
  {
   "cell_type": "markdown",
   "metadata": {},
   "source": [
    "---\n",
    "## 4. Morse code (**)\n",
    "\n",
    "Read in the file morse.txt, save it in a dictionary and create a function that lets the user input a message to get it translated to morse code. For example  (**)\n",
    "\n",
    "```python\n",
    "\n",
    "print(morse[\"SOS\"])\n",
    "print(morse[\"POKEMON\"])\n",
    "\n",
    "...---...\n",
    ".------.-.------.\n",
    "```"
   ]
  },
  {
   "cell_type": "markdown",
   "metadata": {},
   "source": [
    "---\n",
    "\n",
    "Kokchun Giang\n",
    "\n",
    "[LinkedIn][linkedIn_kokchun]\n",
    "\n",
    "[GitHub portfolio][github_portfolio]\n",
    "\n",
    "[linkedIn_kokchun]: https://www.linkedin.com/in/kokchungiang/\n",
    "[github_portfolio]: https://github.com/kokchun/Portfolio-Kokchun-Giang\n",
    "\n",
    "---"
   ]
  }
 ],
 "metadata": {
  "kernelspec": {
   "display_name": "Python 3.9.13 ('Python-Edin-Smlatic-dVlAjTDk')",
   "language": "python",
   "name": "python3"
  },
  "language_info": {
   "codemirror_mode": {
    "name": "ipython",
    "version": 3
   },
   "file_extension": ".py",
   "mimetype": "text/x-python",
   "name": "python",
   "nbconvert_exporter": "python",
   "pygments_lexer": "ipython3",
   "version": "3.9.13"
  },
  "orig_nbformat": 4,
  "vscode": {
   "interpreter": {
    "hash": "d2cee2cf671a357a2ecc6b36cb6623ac8b6ef3e9fb369891d3bf32f80d1aba61"
   }
  }
 },
 "nbformat": 4,
 "nbformat_minor": 2
}
