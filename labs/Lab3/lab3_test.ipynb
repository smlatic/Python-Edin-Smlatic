{
 "cells": [
  {
   "cell_type": "markdown",
   "metadata": {},
   "source": [
    "### * 2 klasser \n",
    "rektangel cirkel\n"
   ]
  },
  {
   "cell_type": "markdown",
   "metadata": {},
   "source": [
    "klass:\n",
    "\n",
    "\n",
    "\n",
    "methods:\n",
    "\n",
    "area\n",
    "omkrets\n"
   ]
  }
 ],
 "metadata": {
  "kernelspec": {
   "display_name": "Python 3.9.13 ('Python-Edin-Smlatic-dVlAjTDk')",
   "language": "python",
   "name": "python3"
  },
  "language_info": {
   "name": "python",
   "version": "3.9.13"
  },
  "orig_nbformat": 4,
  "vscode": {
   "interpreter": {
    "hash": "d2cee2cf671a357a2ecc6b36cb6623ac8b6ef3e9fb369891d3bf32f80d1aba61"
   }
  }
 },
 "nbformat": 4,
 "nbformat_minor": 2
}
