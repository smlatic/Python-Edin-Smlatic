{
 "cells": [
  {
   "cell_type": "code",
   "execution_count": 7,
   "metadata": {},
   "outputs": [
    {
     "ename": "TypeError",
     "evalue": "__init__() got an unexpected keyword argument 'radius'",
     "output_type": "error",
     "traceback": [
      "\u001b[1;31m---------------------------------------------------------------------------\u001b[0m",
      "\u001b[1;31mTypeError\u001b[0m                                 Traceback (most recent call last)",
      "Cell \u001b[1;32mIn [7], line 66\u001b[0m\n\u001b[0;32m     60\u001b[0m         \u001b[38;5;124;03m\"\"\"Info\"\"\"\u001b[39;00m\n\u001b[0;32m     61\u001b[0m         \u001b[38;5;28;01mreturn\u001b[39;00m \u001b[38;5;124mf\u001b[39m\u001b[38;5;124m\"\u001b[39m\u001b[38;5;124mShape with points: (\u001b[39m\u001b[38;5;132;01m{\u001b[39;00m\u001b[38;5;28mself\u001b[39m\u001b[38;5;241m.\u001b[39mx\u001b[38;5;132;01m}\u001b[39;00m\u001b[38;5;124m, \u001b[39m\u001b[38;5;132;01m{\u001b[39;00m\u001b[38;5;28mself\u001b[39m\u001b[38;5;241m.\u001b[39my\u001b[38;5;132;01m}\u001b[39;00m\u001b[38;5;124m).\u001b[39m\u001b[38;5;124m\"\u001b[39m\n\u001b[1;32m---> 66\u001b[0m cirkel1 \u001b[38;5;241m=\u001b[39m \u001b[43mGeometry\u001b[49m\u001b[43m(\u001b[49m\u001b[43mx\u001b[49m\u001b[38;5;241;43m=\u001b[39;49m\u001b[38;5;241;43m0\u001b[39;49m\u001b[43m,\u001b[49m\u001b[43my\u001b[49m\u001b[38;5;241;43m=\u001b[39;49m\u001b[38;5;241;43m0\u001b[39;49m\u001b[43m,\u001b[49m\u001b[43m \u001b[49m\u001b[43mradius\u001b[49m\u001b[38;5;241;43m=\u001b[39;49m\u001b[38;5;241;43m1\u001b[39;49m\u001b[43m)\u001b[49m \u001b[38;5;66;03m# enhetscirkel\u001b[39;00m\n\u001b[0;32m     67\u001b[0m \u001b[38;5;66;03m# cirkel2 = Circle(x=1,y=1, radius=1)\u001b[39;00m\n\u001b[0;32m     68\u001b[0m \u001b[38;5;66;03m# rektangel = Rectangle(x=0,y=0,side1=1, side2=1)\u001b[39;00m\n\u001b[0;32m     69\u001b[0m \n\u001b[0;32m     70\u001b[0m \u001b[38;5;66;03m# print(cirkel1==cirkel2) # True\u001b[39;00m\n\u001b[0;32m     71\u001b[0m \u001b[38;5;66;03m# print(cirkel2==rektangel) # False\u001b[39;00m\n\u001b[0;32m     72\u001b[0m \u001b[38;5;66;03m# print(cirkel1.is_inside(0.5, 0.5)) # True\u001b[39;00m\n\u001b[0;32m     73\u001b[0m cirkel1\u001b[38;5;241m.\u001b[39mmove(\u001b[38;5;241m5\u001b[39m,\u001b[38;5;241m5\u001b[39m)\n",
      "\u001b[1;31mTypeError\u001b[0m: __init__() got an unexpected keyword argument 'radius'"
     ]
    }
   ],
   "source": [
    "\n",
    "from math import pi\n",
    "from math import sqrt\n",
    "\n",
    "# --------------------------------- HEAD  SHAPE ----------------------\n",
    "\n",
    "class Geometry:\n",
    "    \"\"\"Geometry shape with x-coordinate and y-coordinate\"\"\"\n",
    "    def __init__(self, x: float, y:float) -> None: #x: x coordinate, y: y coordinate\n",
    "        self.x = x\n",
    "        self.y = y\n",
    "\n",
    "    @property\n",
    "    def x(self)-> float:\n",
    "        \"\"\"Read-only property\"\"\"\n",
    "        return self._x\n",
    "    \n",
    "    @property\n",
    "    def y(self) -> float:\n",
    "        \"\"\"Read-only property\"\"\"\n",
    "        return self._y\n",
    "\n",
    "    @x.setter\n",
    "    def x(self, value: float) -> None:\n",
    "        \"\"\"Setter for x\"\"\"\n",
    "        self._x = Geometry.validation_check(value)\n",
    "\n",
    "    @y.setter\n",
    "    def y(self, value: float) -> None:\n",
    "        \"\"\"Setter for y\"\"\"\n",
    "        self._y = Geometry.validation_check(value)\n",
    "\n",
    "   \n",
    "    def validation_check(value: float) -> float:\n",
    "        \"\"\"Validation for integer or float \"\"\"\n",
    "        if not isinstance(value, (int,float)):\n",
    "            raise TypeError (f\"Only integer or float allowed, {type(value)} is invalid.\")\n",
    "        return value\n",
    "\n",
    "   \n",
    "    def eu_dis(x1:float, x2:float, y1:float, y2:float) -> float:\n",
    "        \"\"\"Return euclidean distance between two points: (x1, y1, z1) and (x2, y2, z2)\"\"\"\n",
    "        x1 = Geometry.validation_check(x1)\n",
    "        y1 = Geometry.validation_check(y1)\n",
    "        x2 = Geometry.validation_check(x2)\n",
    "        y2 = Geometry.validation_check(y2)\n",
    "        return sqrt((x2-x1)**2+(y2-y1)**2)\n",
    "\n",
    "\n",
    "    def __eq__(self, other) -> bool:\n",
    "        \"\"\"Return if two shapes are equal\"\"\"\n",
    "        pass\n",
    "    \n",
    "    def move(self, deltaX:float, deltaY:float):\n",
    "        \"\"\"Moves the geometric shape\"\"\"\n",
    "        self._x += Geometry.validation_check(deltaX)\n",
    "        self._y += Geometry.validation_check(deltaY)\n",
    "\n",
    "\n",
    "    def __repr__(self) -> str:\n",
    "        \"\"\"Info\"\"\"\n",
    "        return f\"Shape with points: ({self.x}, {self.y}).\"\n",
    "\n",
    "\n",
    "\n",
    "\n",
    "# cirkel1 = Geometry(x=0,y=0, radius=1) # enhetscirkel\n",
    "# cirkel2 = Circle(x=1,y=1, radius=1)\n",
    "# rektangel = Rectangle(x=0,y=0,side1=1, side2=1)\n",
    "\n",
    "# print(cirkel1==cirkel2) # True\n",
    "# print(cirkel2==rektangel) # False\n",
    "# print(cirkel1.is_inside(0.5, 0.5)) # True\n",
    "# cirkel1.move(5,5)\n",
    "# print(cirkel1.is_inside(0.5, 0.5)) # False\n",
    "# cirkel1.translate(\"TRE\",5) # ge ValueError med lämplig kommentar"
   ]
  },
  {
   "cell_type": "code",
   "execution_count": null,
   "metadata": {},
   "outputs": [],
   "source": []
  }
 ],
 "metadata": {
  "kernelspec": {
   "display_name": "Python 3.9.13 ('Python-Edin-Smlatic-dVlAjTDk')",
   "language": "python",
   "name": "python3"
  },
  "language_info": {
   "codemirror_mode": {
    "name": "ipython",
    "version": 3
   },
   "file_extension": ".py",
   "mimetype": "text/x-python",
   "name": "python",
   "nbconvert_exporter": "python",
   "pygments_lexer": "ipython3",
   "version": "3.9.13"
  },
  "orig_nbformat": 4,
  "vscode": {
   "interpreter": {
    "hash": "d2cee2cf671a357a2ecc6b36cb6623ac8b6ef3e9fb369891d3bf32f80d1aba61"
   }
  }
 },
 "nbformat": 4,
 "nbformat_minor": 2
}
