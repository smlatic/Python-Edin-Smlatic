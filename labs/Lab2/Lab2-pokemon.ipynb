{
 "cells": [
  {
   "cell_type": "markdown",
   "metadata": {},
   "source": [
    "## Lab 2 - Part 1.\n",
    " - Use a dataset of Pokemon( Pikachu and Pichu) to take user input guess if its Pikachi or Pichu.\n",
    " \n",
    "    - For this task I will be using the mean position of Pikachu and Pichu\n",
    "      and use Euclidian distance calculate to which \"Pokemon\" the new point is closest to.\n",
    "    \n",
    "    - For loading and preparing data I will be using basic Panda.\n",
    " "
   ]
  },
  {
   "cell_type": "markdown",
   "metadata": {},
   "source": [
    "### 1. Import modules\n",
    " "
   ]
  },
  {
   "cell_type": "code",
   "execution_count": 52,
   "metadata": {},
   "outputs": [],
   "source": [
    "import pandas as pd\n",
    "import numpy as np\n",
    "import matplotlib.pyplot as plt"
   ]
  },
  {
   "cell_type": "markdown",
   "metadata": {},
   "source": [
    "### 2. Load Data"
   ]
  },
  {
   "cell_type": "code",
   "execution_count": 81,
   "metadata": {},
   "outputs": [
    {
     "data": {
      "text/plain": [
       "(   (width (cm)   height (cm)   label (0-pichu   1-pikachu))\n",
       " 0    21.959384     31.239567                0           NaN\n",
       " 1    23.635916     36.468215                1           NaN\n",
       " 2    17.714056     31.441704                0           NaN\n",
       " 3    21.780200     33.213398                1           NaN\n",
       " 4    25.206306     36.558816                1           NaN,\n",
       " Index(['(width (cm)', ' height (cm)', ' label (0-pichu', ' 1-pikachu))'], dtype='object'))"
      ]
     },
     "execution_count": 81,
     "metadata": {},
     "output_type": "execute_result"
    }
   ],
   "source": [
    "datapoints = pd.read_csv(\"datapoints.txt\")\n",
    "datapoints.head(), datapoints.columns"
   ]
  },
  {
   "cell_type": "code",
   "execution_count": 136,
   "metadata": {},
   "outputs": [
    {
     "data": {
      "text/html": [
       "<div>\n",
       "<style scoped>\n",
       "    .dataframe tbody tr th:only-of-type {\n",
       "        vertical-align: middle;\n",
       "    }\n",
       "\n",
       "    .dataframe tbody tr th {\n",
       "        vertical-align: top;\n",
       "    }\n",
       "\n",
       "    .dataframe thead th {\n",
       "        text-align: right;\n",
       "    }\n",
       "</style>\n",
       "<table border=\"1\" class=\"dataframe\">\n",
       "  <thead>\n",
       "    <tr style=\"text-align: right;\">\n",
       "      <th></th>\n",
       "      <th>Width</th>\n",
       "      <th>Height</th>\n",
       "      <th>Pika1/Pichu0</th>\n",
       "    </tr>\n",
       "  </thead>\n",
       "  <tbody>\n",
       "    <tr>\n",
       "      <th>0</th>\n",
       "      <td>21.959384</td>\n",
       "      <td>31.239567</td>\n",
       "      <td>0</td>\n",
       "    </tr>\n",
       "    <tr>\n",
       "      <th>1</th>\n",
       "      <td>23.635916</td>\n",
       "      <td>36.468215</td>\n",
       "      <td>1</td>\n",
       "    </tr>\n",
       "    <tr>\n",
       "      <th>2</th>\n",
       "      <td>17.714056</td>\n",
       "      <td>31.441704</td>\n",
       "      <td>0</td>\n",
       "    </tr>\n",
       "    <tr>\n",
       "      <th>3</th>\n",
       "      <td>21.780200</td>\n",
       "      <td>33.213398</td>\n",
       "      <td>1</td>\n",
       "    </tr>\n",
       "    <tr>\n",
       "      <th>4</th>\n",
       "      <td>25.206306</td>\n",
       "      <td>36.558816</td>\n",
       "      <td>1</td>\n",
       "    </tr>\n",
       "    <tr>\n",
       "      <th>...</th>\n",
       "      <td>...</td>\n",
       "      <td>...</td>\n",
       "      <td>...</td>\n",
       "    </tr>\n",
       "    <tr>\n",
       "      <th>145</th>\n",
       "      <td>18.990690</td>\n",
       "      <td>32.387963</td>\n",
       "      <td>0</td>\n",
       "    </tr>\n",
       "    <tr>\n",
       "      <th>146</th>\n",
       "      <td>23.542000</td>\n",
       "      <td>32.475193</td>\n",
       "      <td>0</td>\n",
       "    </tr>\n",
       "    <tr>\n",
       "      <th>147</th>\n",
       "      <td>19.640603</td>\n",
       "      <td>30.291557</td>\n",
       "      <td>0</td>\n",
       "    </tr>\n",
       "    <tr>\n",
       "      <th>148</th>\n",
       "      <td>21.989954</td>\n",
       "      <td>33.645903</td>\n",
       "      <td>1</td>\n",
       "    </tr>\n",
       "    <tr>\n",
       "      <th>149</th>\n",
       "      <td>22.302103</td>\n",
       "      <td>32.732379</td>\n",
       "      <td>0</td>\n",
       "    </tr>\n",
       "  </tbody>\n",
       "</table>\n",
       "<p>150 rows × 3 columns</p>\n",
       "</div>"
      ],
      "text/plain": [
       "         Width     Height  Pika1/Pichu0\n",
       "0    21.959384  31.239567             0\n",
       "1    23.635916  36.468215             1\n",
       "2    17.714056  31.441704             0\n",
       "3    21.780200  33.213398             1\n",
       "4    25.206306  36.558816             1\n",
       "..         ...        ...           ...\n",
       "145  18.990690  32.387963             0\n",
       "146  23.542000  32.475193             0\n",
       "147  19.640603  30.291557             0\n",
       "148  21.989954  33.645903             1\n",
       "149  22.302103  32.732379             0\n",
       "\n",
       "[150 rows x 3 columns]"
      ]
     },
     "execution_count": 136,
     "metadata": {},
     "output_type": "execute_result"
    }
   ],
   "source": [
    "# Cleaning up the columns, removing unnecessary spaces and text. \n",
    "# Dropping  \"  1-pikachu))'\" NaN Column. Renaming target column to Pika1/Pichu0\n",
    "datapoints_new = datapoints.drop([\" 1-pikachu))\"], axis=1)\n",
    "datapoints_new.rename(columns={\"(width (cm)\": \"Width\", \" height (cm)\": \"Height\", \" label (0-pichu\": \"Pika1/Pichu0\"}, inplace= True)\n",
    "datapoints_new\n"
   ]
  },
  {
   "cell_type": "code",
   "execution_count": 138,
   "metadata": {},
   "outputs": [
    {
     "data": {
      "text/html": [
       "<div>\n",
       "<style scoped>\n",
       "    .dataframe tbody tr th:only-of-type {\n",
       "        vertical-align: middle;\n",
       "    }\n",
       "\n",
       "    .dataframe tbody tr th {\n",
       "        vertical-align: top;\n",
       "    }\n",
       "\n",
       "    .dataframe thead th {\n",
       "        text-align: right;\n",
       "    }\n",
       "</style>\n",
       "<table border=\"1\" class=\"dataframe\">\n",
       "  <thead>\n",
       "    <tr style=\"text-align: right;\">\n",
       "      <th></th>\n",
       "      <th>Width</th>\n",
       "      <th>Height</th>\n",
       "      <th>Pika1/Pichu0</th>\n",
       "    </tr>\n",
       "  </thead>\n",
       "  <tbody>\n",
       "    <tr>\n",
       "      <th>count</th>\n",
       "      <td>150.000000</td>\n",
       "      <td>150.000000</td>\n",
       "      <td>150.000000</td>\n",
       "    </tr>\n",
       "    <tr>\n",
       "      <th>mean</th>\n",
       "      <td>22.062142</td>\n",
       "      <td>33.598281</td>\n",
       "      <td>0.500000</td>\n",
       "    </tr>\n",
       "    <tr>\n",
       "      <th>std</th>\n",
       "      <td>2.497307</td>\n",
       "      <td>2.159651</td>\n",
       "      <td>0.501675</td>\n",
       "    </tr>\n",
       "    <tr>\n",
       "      <th>min</th>\n",
       "      <td>16.866105</td>\n",
       "      <td>28.888134</td>\n",
       "      <td>0.000000</td>\n",
       "    </tr>\n",
       "    <tr>\n",
       "      <th>25%</th>\n",
       "      <td>19.921975</td>\n",
       "      <td>32.005462</td>\n",
       "      <td>0.000000</td>\n",
       "    </tr>\n",
       "    <tr>\n",
       "      <th>50%</th>\n",
       "      <td>22.040754</td>\n",
       "      <td>33.315877</td>\n",
       "      <td>0.500000</td>\n",
       "    </tr>\n",
       "    <tr>\n",
       "      <th>75%</th>\n",
       "      <td>24.316733</td>\n",
       "      <td>35.320895</td>\n",
       "      <td>1.000000</td>\n",
       "    </tr>\n",
       "    <tr>\n",
       "      <th>max</th>\n",
       "      <td>27.194384</td>\n",
       "      <td>40.147170</td>\n",
       "      <td>1.000000</td>\n",
       "    </tr>\n",
       "  </tbody>\n",
       "</table>\n",
       "</div>"
      ],
      "text/plain": [
       "            Width      Height  Pika1/Pichu0\n",
       "count  150.000000  150.000000    150.000000\n",
       "mean    22.062142   33.598281      0.500000\n",
       "std      2.497307    2.159651      0.501675\n",
       "min     16.866105   28.888134      0.000000\n",
       "25%     19.921975   32.005462      0.000000\n",
       "50%     22.040754   33.315877      0.500000\n",
       "75%     24.316733   35.320895      1.000000\n",
       "max     27.194384   40.147170      1.000000"
      ]
     },
     "execution_count": 138,
     "metadata": {},
     "output_type": "execute_result"
    }
   ],
   "source": [
    "datapoints_new.describe()\n",
    "# Dataset is balanced 50/50 with Pikachu Pichu."
   ]
  },
  {
   "cell_type": "markdown",
   "metadata": {},
   "source": [
    "## Prepare Data"
   ]
  },
  {
   "cell_type": "code",
   "execution_count": 140,
   "metadata": {},
   "outputs": [],
   "source": [
    "# Separate Pikachu and Pichu\n",
    "\n",
    "# Only Pika\n",
    "pikachu = datapoints_new[datapoints_new[\"Pika1/Pichu0\"] == 1]\n",
    "\n",
    "# Mean() Pikachu Position for X and Y\n",
    "xpika = pikachu['Width'].mean()\n",
    "ypika = pikachu['Height'].mean() \n",
    "\n",
    "\n",
    "# Only pichu\n",
    "pichu = datapoints_new[datapoints_new[\"Pika1/Pichu0\"] == 0]\n",
    "\n",
    "# Mean() Pichu Position for X and Y\n",
    "xpichu = pichu['Width'].mean()\n",
    "ypichu = pichu['Height'].mean() "
   ]
  },
  {
   "cell_type": "markdown",
   "metadata": {},
   "source": [
    "## Algoritm using the Euclidian distance"
   ]
  },
  {
   "cell_type": "code",
   "execution_count": 141,
   "metadata": {},
   "outputs": [
    {
     "name": "stdout",
     "output_type": "stream",
     "text": [
      "This is Pichu!\n"
     ]
    }
   ],
   "source": [
    "# Will prompt the user for X (width) and then Y(height)\n",
    "import math\n",
    "\n",
    "result = []\n",
    "while True:\n",
    "    try:\n",
    "        user_x = float(input(\"Type width(x): \"))\n",
    "        user_y = float(input(\"Type in height(y): \"))\n",
    "        break\n",
    "    except ValueError:\n",
    "        print(\"Use only numbers with or without decimals.\")\n",
    "        break\n",
    "\n",
    "\n",
    "a = (xpika-user_x)**2 + (ypika-user_y)**2\n",
    "distpika = math.sqrt(a)\n",
    "\n",
    "b = (xpichu-user_x)**2 + (ypichu-user_y)**2\n",
    "distpichu = math.sqrt(b)\n",
    "\n",
    "if distpika > distpichu:\n",
    "    print(\"This is Pichu!\")\n",
    "        \n",
    "else:\n",
    "    print(\"This is Pikachu!\")\n",
    "        \n",
    "\n",
    "#Test points:\n",
    "#1. (25, 32) should be pika\n",
    "#2. (24.2, 31.5) - pika\n",
    "#3. (22, 34) - pika\n",
    "#4. (20.5, 34) - pichu\n",
    "\n"
   ]
  },
  {
   "cell_type": "markdown",
   "metadata": {},
   "source": [
    "## Lab 2 - Part 2:\n",
    "K-nearest "
   ]
  },
  {
   "cell_type": "code",
   "execution_count": null,
   "metadata": {},
   "outputs": [],
   "source": []
  }
 ],
 "metadata": {
  "kernelspec": {
   "display_name": "Python 3.9.13 ('Python-Edin-Smlatic-dVlAjTDk')",
   "language": "python",
   "name": "python3"
  },
  "language_info": {
   "codemirror_mode": {
    "name": "ipython",
    "version": 3
   },
   "file_extension": ".py",
   "mimetype": "text/x-python",
   "name": "python",
   "nbconvert_exporter": "python",
   "pygments_lexer": "ipython3",
   "version": "3.9.13"
  },
  "orig_nbformat": 4,
  "vscode": {
   "interpreter": {
    "hash": "d2cee2cf671a357a2ecc6b36cb6623ac8b6ef3e9fb369891d3bf32f80d1aba61"
   }
  }
 },
 "nbformat": 4,
 "nbformat_minor": 2
}
