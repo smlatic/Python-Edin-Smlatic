{
 "cells": [
  {
   "cell_type": "markdown",
   "metadata": {},
   "source": [
    "## Lab 2 - Part 1:\n",
    "### Pikachu and Pichu - Datapoints. Classification exercise\n",
    " \n",
    "- Task is to make a simple algo that can take user input and predict if it is one or the other.\n",
    "- I will be using the mean position of Pikachu and Pichu and use Euclidian distance calculate to which the new point is closest to.\n",
    "- For part 2 I will try out some more advanced models with scikit learn.\n",
    " "
   ]
  },
  {
   "cell_type": "markdown",
   "metadata": {},
   "source": [
    "### Import modules\n",
    " "
   ]
  },
  {
   "cell_type": "code",
   "execution_count": 4,
   "metadata": {},
   "outputs": [],
   "source": [
    "import pandas as pd\n",
    "import numpy as np\n",
    "import matplotlib.pyplot as plt"
   ]
  },
  {
   "cell_type": "markdown",
   "metadata": {},
   "source": [
    "### Load Data"
   ]
  },
  {
   "cell_type": "code",
   "execution_count": 5,
   "metadata": {},
   "outputs": [
    {
     "data": {
      "text/plain": [
       "(   (width (cm)   height (cm)   label (0-pichu   1-pikachu))\n",
       " 0    21.959384     31.239567                0           NaN\n",
       " 1    23.635916     36.468215                1           NaN\n",
       " 2    17.714056     31.441704                0           NaN\n",
       " 3    21.780200     33.213398                1           NaN\n",
       " 4    25.206306     36.558816                1           NaN,\n",
       " Index(['(width (cm)', ' height (cm)', ' label (0-pichu', ' 1-pikachu))'], dtype='object'))"
      ]
     },
     "execution_count": 5,
     "metadata": {},
     "output_type": "execute_result"
    }
   ],
   "source": [
    "datapoints = pd.read_csv(\"datapoints.txt\")\n",
    "datapoints.head(), datapoints.columns"
   ]
  },
  {
   "cell_type": "code",
   "execution_count": 6,
   "metadata": {},
   "outputs": [
    {
     "data": {
      "text/html": [
       "<div>\n",
       "<style scoped>\n",
       "    .dataframe tbody tr th:only-of-type {\n",
       "        vertical-align: middle;\n",
       "    }\n",
       "\n",
       "    .dataframe tbody tr th {\n",
       "        vertical-align: top;\n",
       "    }\n",
       "\n",
       "    .dataframe thead th {\n",
       "        text-align: right;\n",
       "    }\n",
       "</style>\n",
       "<table border=\"1\" class=\"dataframe\">\n",
       "  <thead>\n",
       "    <tr style=\"text-align: right;\">\n",
       "      <th></th>\n",
       "      <th>Width</th>\n",
       "      <th>Height</th>\n",
       "      <th>Pika1/Pichu0</th>\n",
       "    </tr>\n",
       "  </thead>\n",
       "  <tbody>\n",
       "    <tr>\n",
       "      <th>0</th>\n",
       "      <td>21.959384</td>\n",
       "      <td>31.239567</td>\n",
       "      <td>0</td>\n",
       "    </tr>\n",
       "    <tr>\n",
       "      <th>1</th>\n",
       "      <td>23.635916</td>\n",
       "      <td>36.468215</td>\n",
       "      <td>1</td>\n",
       "    </tr>\n",
       "    <tr>\n",
       "      <th>2</th>\n",
       "      <td>17.714056</td>\n",
       "      <td>31.441704</td>\n",
       "      <td>0</td>\n",
       "    </tr>\n",
       "    <tr>\n",
       "      <th>3</th>\n",
       "      <td>21.780200</td>\n",
       "      <td>33.213398</td>\n",
       "      <td>1</td>\n",
       "    </tr>\n",
       "    <tr>\n",
       "      <th>4</th>\n",
       "      <td>25.206306</td>\n",
       "      <td>36.558816</td>\n",
       "      <td>1</td>\n",
       "    </tr>\n",
       "  </tbody>\n",
       "</table>\n",
       "</div>"
      ],
      "text/plain": [
       "       Width     Height  Pika1/Pichu0\n",
       "0  21.959384  31.239567             0\n",
       "1  23.635916  36.468215             1\n",
       "2  17.714056  31.441704             0\n",
       "3  21.780200  33.213398             1\n",
       "4  25.206306  36.558816             1"
      ]
     },
     "execution_count": 6,
     "metadata": {},
     "output_type": "execute_result"
    }
   ],
   "source": [
    "# Cleaning up the columns, removing unnecessary spaces and text. \n",
    "# Dropping  \"  1-pikachu))'\" NaN Column. Renaming target column to Pika1/Pichu0\n",
    "datapoints_new = datapoints.drop([\" 1-pikachu))\"], axis=1)\n",
    "datapoints_new.rename(columns={\"(width (cm)\": \"Width\", \" height (cm)\": \"Height\", \" label (0-pichu\": \"Pika1/Pichu0\"}, inplace= True)\n",
    "datapoints_new.head()\n"
   ]
  },
  {
   "cell_type": "code",
   "execution_count": 7,
   "metadata": {},
   "outputs": [
    {
     "data": {
      "text/html": [
       "<div>\n",
       "<style scoped>\n",
       "    .dataframe tbody tr th:only-of-type {\n",
       "        vertical-align: middle;\n",
       "    }\n",
       "\n",
       "    .dataframe tbody tr th {\n",
       "        vertical-align: top;\n",
       "    }\n",
       "\n",
       "    .dataframe thead th {\n",
       "        text-align: right;\n",
       "    }\n",
       "</style>\n",
       "<table border=\"1\" class=\"dataframe\">\n",
       "  <thead>\n",
       "    <tr style=\"text-align: right;\">\n",
       "      <th></th>\n",
       "      <th>Width</th>\n",
       "      <th>Height</th>\n",
       "      <th>Pika1/Pichu0</th>\n",
       "    </tr>\n",
       "  </thead>\n",
       "  <tbody>\n",
       "    <tr>\n",
       "      <th>count</th>\n",
       "      <td>150.000000</td>\n",
       "      <td>150.000000</td>\n",
       "      <td>150.000000</td>\n",
       "    </tr>\n",
       "    <tr>\n",
       "      <th>mean</th>\n",
       "      <td>22.062142</td>\n",
       "      <td>33.598281</td>\n",
       "      <td>0.500000</td>\n",
       "    </tr>\n",
       "    <tr>\n",
       "      <th>std</th>\n",
       "      <td>2.497307</td>\n",
       "      <td>2.159651</td>\n",
       "      <td>0.501675</td>\n",
       "    </tr>\n",
       "    <tr>\n",
       "      <th>min</th>\n",
       "      <td>16.866105</td>\n",
       "      <td>28.888134</td>\n",
       "      <td>0.000000</td>\n",
       "    </tr>\n",
       "    <tr>\n",
       "      <th>25%</th>\n",
       "      <td>19.921975</td>\n",
       "      <td>32.005462</td>\n",
       "      <td>0.000000</td>\n",
       "    </tr>\n",
       "    <tr>\n",
       "      <th>50%</th>\n",
       "      <td>22.040754</td>\n",
       "      <td>33.315877</td>\n",
       "      <td>0.500000</td>\n",
       "    </tr>\n",
       "    <tr>\n",
       "      <th>75%</th>\n",
       "      <td>24.316733</td>\n",
       "      <td>35.320895</td>\n",
       "      <td>1.000000</td>\n",
       "    </tr>\n",
       "    <tr>\n",
       "      <th>max</th>\n",
       "      <td>27.194384</td>\n",
       "      <td>40.147170</td>\n",
       "      <td>1.000000</td>\n",
       "    </tr>\n",
       "  </tbody>\n",
       "</table>\n",
       "</div>"
      ],
      "text/plain": [
       "            Width      Height  Pika1/Pichu0\n",
       "count  150.000000  150.000000    150.000000\n",
       "mean    22.062142   33.598281      0.500000\n",
       "std      2.497307    2.159651      0.501675\n",
       "min     16.866105   28.888134      0.000000\n",
       "25%     19.921975   32.005462      0.000000\n",
       "50%     22.040754   33.315877      0.500000\n",
       "75%     24.316733   35.320895      1.000000\n",
       "max     27.194384   40.147170      1.000000"
      ]
     },
     "execution_count": 7,
     "metadata": {},
     "output_type": "execute_result"
    }
   ],
   "source": [
    "datapoints_new.describe()\n",
    "# Dataset is balanced 50/50 with Pikachu Pichu."
   ]
  },
  {
   "cell_type": "markdown",
   "metadata": {},
   "source": [
    "### Prepare Data"
   ]
  },
  {
   "cell_type": "code",
   "execution_count": 8,
   "metadata": {},
   "outputs": [],
   "source": [
    "# Separate Pikachu and Pichu\n",
    "\n",
    "# Only Pika\n",
    "pikachu = datapoints_new[datapoints_new[\"Pika1/Pichu0\"] == 1]\n",
    "\n",
    "# Mean() Pikachu Position for X and Y\n",
    "xpika = pikachu['Width'].mean()\n",
    "ypika = pikachu['Height'].mean() \n",
    "\n",
    "\n",
    "# Only pichu\n",
    "pichu = datapoints_new[datapoints_new[\"Pika1/Pichu0\"] == 0]\n",
    "\n",
    "# Mean() Pichu Position for X and Y\n",
    "xpichu = pichu['Width'].mean()\n",
    "ypichu = pichu['Height'].mean() \n",
    "\n",
    "\n",
    "\n",
    "# ---------------- For Visualization later in subplots----------------\n",
    "# Data frame for test points\n",
    "data_test_points = [[25, 32, 1], [24.2, 31.5, 1], [22, 34, 1], [20.5, 34, 0]]\n",
    "testpoints = pd.DataFrame(data_test_points, columns=[\"Width\", \"Height\", \"Pika1/Pichu0\"])\n",
    "\n",
    "# Data frame for mean() points\n",
    "mean_points = [[xpika, ypika, 1], [xpichu, ypichu, 0]]\n",
    "mean_points = pd.DataFrame(mean_points, columns=[\"Width\", \"Height\", \"Pika1/Pichu0\"])\n",
    "\n",
    "\n",
    "\n"
   ]
  },
  {
   "cell_type": "markdown",
   "metadata": {},
   "source": [
    "### Algoritm using the Euclidian distance\n",
    "Simple algoritm. Using the mean of all pikachus and Pichu points to calculate the distance to the new input test points. The shorter distance decides"
   ]
  },
  {
   "cell_type": "code",
   "execution_count": 9,
   "metadata": {},
   "outputs": [
    {
     "name": "stdout",
     "output_type": "stream",
     "text": [
      "Width: 20.5 and Height: 34.0. Pichu!\n"
     ]
    }
   ],
   "source": [
    "# Will prompt the user for X (width) and then Y(height)\n",
    "import math\n",
    "\n",
    "result = []\n",
    "while True:\n",
    "    try:\n",
    "        user_x = float(input(\"Type width(x): \"))\n",
    "        user_y = float(input(\"Type in height(y): \"))\n",
    "        break\n",
    "    except ValueError:\n",
    "        print(\"Use only numbers with or without decimals.\")\n",
    "        break\n",
    "\n",
    "\n",
    "a = (xpika-user_x)**2 + (ypika-user_y)**2\n",
    "distpika = math.sqrt(a)\n",
    "\n",
    "b = (xpichu-user_x)**2 + (ypichu-user_y)**2\n",
    "distpichu = math.sqrt(b)\n",
    "\n",
    "if distpika > distpichu:\n",
    "    print(f\"Width: {user_x} and Height: {user_y}. Pichu!\")\n",
    "        \n",
    "else:\n",
    "    print(f\"Width: {user_x} and Height: {user_y}. Pikachu!\")\n",
    "        \n",
    "\n",
    "#Test points with answers:\n",
    "#1. (25, 32) - pika\n",
    "#2. (24.2, 31.5) - pika\n",
    "#3. (22, 34) - pika\n",
    "#4. (20.5, 34) - pichu\n",
    "\n"
   ]
  },
  {
   "cell_type": "markdown",
   "metadata": {},
   "source": [
    "### Visualize the data\n",
    "Subplots for main data set, mean points and test points."
   ]
  },
  {
   "cell_type": "code",
   "execution_count": 10,
   "metadata": {},
   "outputs": [
    {
     "data": {
      "text/plain": [
       "(25.0, 45.0)"
      ]
     },
     "execution_count": 10,
     "metadata": {},
     "output_type": "execute_result"
    },
    {
     "data": {
      "image/png": "[encoded data removed]",
      "text/plain": [
       "<Figure size 1500x300 with 3 Axes>"
      ]
     },
     "metadata": {},
     "output_type": "display_data"
    }
   ],
   "source": [
    "# plt.style.use('default')\n",
    "plt.style.use('ggplot')\n",
    "\n",
    "# Create the plot with subplots\n",
    "fig, (ax1, ax2, ax3) = plt.subplots(nrows=1, ncols=3, figsize=(15, 3,))\n",
    "\n",
    "# ---------- first ax1 plot -------------\n",
    "scatter1 = ax1.scatter(datapoints_new[\"Width\"], \n",
    "                     datapoints_new[\"Height\"], \n",
    "                     c=datapoints_new[\"Pika1/Pichu0\"])\n",
    "\n",
    "# ax1 Customization\n",
    "ax1.set(title=\"Pichu & Pikachu\",\n",
    "       xlabel=\"Width (cm)\",\n",
    "       ylabel=\"Height (cm)\")\n",
    "ax1.legend(*scatter1.legend_elements(), title=\"Pichu:0\\nPikachu:1\")\n",
    "\n",
    "ax1.set_xlim([16, 28]) \n",
    "ax1.set_ylim([25, 45])\n",
    "\n",
    "\n",
    "# --------- second ax2 plot ------------------\n",
    "scatter2 = ax2.scatter(testpoints[\"Width\"], #  testpoints is the dataset we prepared earlier.\n",
    "                     testpoints[\"Height\"], \n",
    "                     c=testpoints[\"Pika1/Pichu0\"])\n",
    "\n",
    "# ax2 Customization\n",
    "ax2.set(title=\"Test points\",\n",
    "       xlabel=\"Width (cm)\",\n",
    "       ylabel=\"Height (cm)\")\n",
    "ax2.legend(*scatter2.legend_elements(), title=\"Pichu:0\\nPikachu:1\")\n",
    "\n",
    "ax2.set_xlim([16, 28]) \n",
    "ax2.set_ylim([25, 45])\n",
    "\n",
    "# --------- third ax3 plot ------------------\n",
    "scatter3 = ax3.scatter(mean_points[\"Width\"], #  testpoints is the dataset we prepared earlier.\n",
    "                     mean_points[\"Height\"], \n",
    "                     c=mean_points[\"Pika1/Pichu0\"])\n",
    "\n",
    "# ax2 Customization\n",
    "ax3.set(title=\"Mean point for Pikachu & Pichu\",\n",
    "       xlabel=\"Width (cm)\",\n",
    "       ylabel=\"Height (cm)\")\n",
    "ax3.legend(*scatter3.legend_elements(), title=\"Pichu:0\\nPikachu:1\")\n",
    "\n",
    "ax3.set_xlim([16, 28]) \n",
    "ax3.set_ylim([25, 45])"
   ]
  },
  {
   "cell_type": "markdown",
   "metadata": {},
   "source": [
    "* (left):  Our given datapoints with Pikachu and Pichu. There are some outliers which would not have been labeled correctly using \n",
    "the simple  \"Euclid\" algo.\n",
    "\n",
    "* (middle): The position of the given test points.\n",
    "\n",
    "* (right): The mean points for Pikachu and Pichu.\n",
    "\n",
    "\n",
    "The algo predicted correct on the given test points. Point (22, 34) passed but looking at the plots, it was by a slim margin."
   ]
  },
  {
   "cell_type": "markdown",
   "metadata": {},
   "source": [
    "## Lab 2 - Part 2:\n",
    "Use the nearest 10 points to predict Pikachu or Pichu.\n",
    "\n",
    "I will run a test using \"K-Nearest Neighbors\" (n_neighbor value at 10) machine model through the scikit module."
   ]
  },
  {
   "cell_type": "markdown",
   "metadata": {},
   "source": [
    "### Split data for training\n",
    "We split the data into X and Y.\n",
    "\n",
    "X will be our width and height columns.\n",
    "\n",
    "Y will be our target. 0 or 1 indicating either Pikachu or Pichu."
   ]
  },
  {
   "cell_type": "code",
   "execution_count": 11,
   "metadata": {},
   "outputs": [],
   "source": [
    "X = datapoints_new.drop(\"Pika1/Pichu0\", axis=1) # all columns except our target column = y\n",
    "y = datapoints_new[\"Pika1/Pichu0\"] # our target column (we want to predict y using X)"
   ]
  },
  {
   "cell_type": "markdown",
   "metadata": {},
   "source": [
    "### Model K-nearest Neighbor\n",
    "\n",
    "The data is split into a training set (100) and test set (50).\n",
    "\n",
    "10 randomized training sets are then plotted through a for loop."
   ]
  },
  {
   "cell_type": "code",
   "execution_count": 12,
   "metadata": {},
   "outputs": [
    {
     "name": "stdout",
     "output_type": "stream",
     "text": [
      "[0.9, 0.94, 0.98, 0.98, 0.94, 0.96, 0.94, 0.96, 0.96, 0.96]\n",
      "Mean accuracy of 10 randomized training sets: 95.19999999999999%\n"
     ]
    },
    {
     "data": {
      "image/png": "[encoded data removed]",
      "text/plain": [
       "<Figure size 640x480 with 1 Axes>"
      ]
     },
     "metadata": {},
     "output_type": "display_data"
    }
   ],
   "source": [
    "# The total data is 150 points. The task asks us to divide 100 to training and use\n",
    "# 50 as test data. Randomly. So we set our test_size parameter to 50.\n",
    "# https://www.sharpsightlabs.com/blog/scikit-train_test_split/\n",
    "\n",
    "# Split the data into training and test sets\n",
    "from sklearn.model_selection import train_test_split\n",
    "from sklearn.neighbors import KNeighborsClassifier\n",
    "\n",
    "# 10 randomized tests through a for loop\n",
    "clf = KNeighborsClassifier(n_neighbors=10) # n_neighbors = 10 closest.\n",
    "\n",
    "results = []\n",
    "for i in range(1, 11):\n",
    "    X_train, X_test, y_train, y_test = train_test_split(X, y, test_size= 50) # Testsize set to 50, which leaves 100 to train on.\n",
    "    clf.fit(X_train, y_train) # We apply the model\n",
    "    score = clf.score(X_test, y_test) # Accuracy score, stored in a list.\n",
    "    results.append(score)\n",
    "\n",
    "\n",
    "mean = sum(results)/len(results)\n",
    "print(results)\n",
    "print(f\"Mean accuracy of 10 randomized training sets: {mean*100}%\")\n",
    "plt.plot(results);"
   ]
  },
  {
   "cell_type": "markdown",
   "metadata": {},
   "source": [
    "### Evaluate and Analyze"
   ]
  },
  {
   "cell_type": "code",
   "execution_count": 13,
   "metadata": {},
   "outputs": [],
   "source": [
    "# Import confusion_matrix and classification_report from sklearn's metrics module\n",
    "from sklearn.metrics import confusion_matrix, classification_report"
   ]
  },
  {
   "cell_type": "code",
   "execution_count": 28,
   "metadata": {},
   "outputs": [
    {
     "name": "stdout",
     "output_type": "stream",
     "text": [
      "Score for randomstate 42 test: 96.0%\n"
     ]
    }
   ],
   "source": [
    "clf = KNeighborsClassifier(n_neighbors=10) \n",
    "\n",
    "# Set random_state to 42, for a fixed seed. So we can tune and analyze on the same training set.\n",
    "X_train, X_test, y_train, y_test = train_test_split(X, y, test_size= 50, random_state=42) \n",
    "clf.fit(X_train, y_train)\n",
    "score_randomstate_42 = clf.score(X_test, y_test)\n",
    "print(f\"Score for randomstate 42 test: {score_randomstate_42*100}%\")\n",
    "\n",
    "# Make predictions on test data and save them\n",
    "y_preds = clf.predict(X_test)"
   ]
  },
  {
   "cell_type": "code",
   "execution_count": 29,
   "metadata": {},
   "outputs": [
    {
     "data": {
      "text/plain": [
       "array([[25,  0],\n",
       "       [ 2, 23]], dtype=int64)"
      ]
     },
     "execution_count": 29,
     "metadata": {},
     "output_type": "execute_result"
    }
   ],
   "source": [
    "# Create a confusion matrix using the confusion_matrix function\n",
    "confusion_matrix(y_test, y_preds)"
   ]
  },
  {
   "cell_type": "code",
   "execution_count": 21,
   "metadata": {},
   "outputs": [
    {
     "data": {
      "image/png": "[encoded data removed]",
      "text/plain": [
       "<Figure size 400x400 with 1 Axes>"
      ]
     },
     "metadata": {},
     "output_type": "display_data"
    }
   ],
   "source": [
    "# Import seaborn for improving visualisation of confusion matrix\n",
    "import seaborn as sns\n",
    "\n",
    "# Make confusion matrix more visual\n",
    "plt.figure(figsize=(4, 4))\n",
    "sns.heatmap(confusion_matrix(y_test, y_preds), annot=True, cbar=False) # Annotate the boxes\n",
    "plt.xlabel(\"True label\")\n",
    "plt.ylabel(\"Predicted label\");\n"
   ]
  },
  {
   "cell_type": "code",
   "execution_count": 22,
   "metadata": {},
   "outputs": [
    {
     "name": "stdout",
     "output_type": "stream",
     "text": [
      "              precision    recall  f1-score   support\n",
      "\n",
      "           0       0.96      0.96      0.96        25\n",
      "           1       0.96      0.96      0.96        25\n",
      "\n",
      "    accuracy                           0.96        50\n",
      "   macro avg       0.96      0.96      0.96        50\n",
      "weighted avg       0.96      0.96      0.96        50\n",
      "\n"
     ]
    }
   ],
   "source": [
    "# classification report\n",
    "print(classification_report(y_test, y_preds))"
   ]
  },
  {
   "cell_type": "markdown",
   "metadata": {},
   "source": [
    "## Further Testing\n",
    "Could inlude:\n",
    "- Trying different values on n_neighbors parameter. Loop a range and store results.\n",
    "- Hyper parameter tuning using gridsearch.\n",
    "- Trying different testsize ratios.\n",
    "- Adding more data."
   ]
  },
  {
   "cell_type": "markdown",
   "metadata": {},
   "source": [
    "### Let's run our user input again and try it on the model."
   ]
  },
  {
   "cell_type": "code",
   "execution_count": 23,
   "metadata": {},
   "outputs": [
    {
     "name": "stdout",
     "output_type": "stream",
     "text": [
      "Testing 4 samples: [[25, 32], [24.2, 31.5], [22, 34], [20.5, 34]]\n",
      "[1 1 1 0]\n"
     ]
    }
   ],
   "source": [
    "# Lets try to predict\n",
    "test_input = [[25, 32], [24.2, 31.5], [22, 34], [20.5, 34]]  \n",
    "four_test_points = pd.DataFrame(test_input, columns=['Width', 'Height'])\n",
    "\n",
    "y_preds = clf.predict(four_test_points)\n",
    "\n",
    "print(f\"Testing 4 samples: {test_input}\")\n",
    "print(y_preds)"
   ]
  },
  {
   "cell_type": "markdown",
   "metadata": {},
   "source": [
    "### Results\n",
    "\n",
    "Correct should be pika(1) - pika(1) - pika(1) - pichu(0).\n",
    "\n",
    "After experimenting with n_neighbors parameter, value of 20 would give the correct output more often.\n"
   ]
  }
 ],
 "metadata": {
  "kernelspec": {
   "display_name": "Python 3.9.13 ('Python-Edin-Smlatic-dVlAjTDk')",
   "language": "python",
   "name": "python3"
  },
  "language_info": {
   "codemirror_mode": {
    "name": "ipython",
    "version": 3
   },
   "file_extension": ".py",
   "mimetype": "text/x-python",
   "name": "python",
   "nbconvert_exporter": "python",
   "pygments_lexer": "ipython3",
   "version": "3.9.13"
  },
  "orig_nbformat": 4,
  "vscode": {
   "interpreter": {
    "hash": "d2cee2cf671a357a2ecc6b36cb6623ac8b6ef3e9fb369891d3bf32f80d1aba61"
   }
  }
 },
 "nbformat": 4,
 "nbformat_minor": 2
}
